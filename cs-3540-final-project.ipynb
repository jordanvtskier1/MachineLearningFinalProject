{
 "cells": [
  {
   "cell_type": "code",
   "execution_count": 1,
   "id": "e247c1ea",
   "metadata": {
    "execution": {
     "iopub.execute_input": "2024-03-26T21:34:44.871812Z",
     "iopub.status.busy": "2024-03-26T21:34:44.870962Z",
     "iopub.status.idle": "2024-03-26T21:34:47.969548Z",
     "shell.execute_reply": "2024-03-26T21:34:47.968271Z"
    },
    "papermill": {
     "duration": 3.109132,
     "end_time": "2024-03-26T21:34:47.972544",
     "exception": false,
     "start_time": "2024-03-26T21:34:44.863412",
     "status": "completed"
    },
    "tags": []
   },
   "outputs": [],
   "source": [
    "import polars as pl\n",
    "import numpy as np\n",
    "import pandas as pd\n",
    "from sklearn.model_selection import train_test_split\n",
    "from sklearn.metrics import roc_auc_score\n",
    "from sklearn.linear_model import LogisticRegression\n",
    "from sklearn.ensemble import RandomForestClassifier\n",
    "from sklearn.impute import SimpleImputer\n",
    "from sklearn.metrics import classification_report\n",
    "\n",
    "dataPath = \"/kaggle/input/home-credit-credit-risk-model-stability/\""
   ]
  },
  {
   "cell_type": "code",
   "execution_count": 2,
   "id": "a57a67e3",
   "metadata": {
    "execution": {
     "iopub.execute_input": "2024-03-26T21:34:47.984757Z",
     "iopub.status.busy": "2024-03-26T21:34:47.984177Z",
     "iopub.status.idle": "2024-03-26T21:34:47.994740Z",
     "shell.execute_reply": "2024-03-26T21:34:47.993425Z"
    },
    "papermill": {
     "duration": 0.01919,
     "end_time": "2024-03-26T21:34:47.997253",
     "exception": false,
     "start_time": "2024-03-26T21:34:47.978063",
     "status": "completed"
    },
    "tags": []
   },
   "outputs": [],
   "source": [
    "def set_table_dtypes(df: pl.DataFrame) -> pl.DataFrame:\n",
    "    # implement here all desired dtypes for tables\n",
    "    # the following is just an example\n",
    "    for col in df.columns:\n",
    "        # last letter of column name will help you determine the type\n",
    "        if col[-1] in (\"P\", \"A\"):\n",
    "            df = df.with_columns(pl.col(col).cast(pl.Float64).alias(col))\n",
    "\n",
    "    return df\n",
    "\n",
    "def convert_strings(df: pd.DataFrame) -> pd.DataFrame:\n",
    "    for col in df.columns:  \n",
    "        if df[col].dtype.name in ['object', 'string']:\n",
    "            df[col] = df[col].astype(\"string\").astype('category')\n",
    "            current_categories = df[col].cat.categories\n",
    "            new_categories = current_categories.to_list() + [\"Unknown\"]\n",
    "            new_dtype = pd.CategoricalDtype(categories=new_categories, ordered=True)\n",
    "            df[col] = df[col].astype(new_dtype)\n",
    "    return df"
   ]
  },
  {
   "cell_type": "code",
   "execution_count": 3,
   "id": "9dc452df",
   "metadata": {
    "execution": {
     "iopub.execute_input": "2024-03-26T21:34:48.015028Z",
     "iopub.status.busy": "2024-03-26T21:34:48.014444Z",
     "iopub.status.idle": "2024-03-26T21:35:08.354024Z",
     "shell.execute_reply": "2024-03-26T21:35:08.352992Z"
    },
    "papermill": {
     "duration": 20.354924,
     "end_time": "2024-03-26T21:35:08.357141",
     "exception": false,
     "start_time": "2024-03-26T21:34:48.002217",
     "status": "completed"
    },
    "tags": []
   },
   "outputs": [],
   "source": [
    "train_basetable = pl.read_csv(dataPath + \"csv_files/train/train_base.csv\")\n",
    "train_static = pl.concat(\n",
    "    [\n",
    "        pl.read_csv(dataPath + \"csv_files/train/train_static_0_0.csv\").pipe(set_table_dtypes),\n",
    "        pl.read_csv(dataPath + \"csv_files/train/train_static_0_1.csv\").pipe(set_table_dtypes),\n",
    "    ],\n",
    "    how=\"vertical_relaxed\",\n",
    ")\n",
    "train_static_cb = pl.read_csv(dataPath + \"csv_files/train/train_static_cb_0.csv\").pipe(set_table_dtypes)\n",
    "train_person_1 = pl.read_csv(dataPath + \"csv_files/train/train_person_1.csv\").pipe(set_table_dtypes) \n",
    "train_credit_bureau_b_2 = pl.read_csv(dataPath + \"csv_files/train/train_credit_bureau_b_2.csv\").pipe(set_table_dtypes) \n",
    "feature_defs = pd.read_csv(dataPath + \"feature_definitions.csv\")"
   ]
  },
  {
   "cell_type": "code",
   "execution_count": 4,
   "id": "83943648",
   "metadata": {
    "execution": {
     "iopub.execute_input": "2024-03-26T21:35:08.369511Z",
     "iopub.status.busy": "2024-03-26T21:35:08.368741Z",
     "iopub.status.idle": "2024-03-26T21:35:08.445666Z",
     "shell.execute_reply": "2024-03-26T21:35:08.444515Z"
    },
    "papermill": {
     "duration": 0.086326,
     "end_time": "2024-03-26T21:35:08.448622",
     "exception": false,
     "start_time": "2024-03-26T21:35:08.362296",
     "status": "completed"
    },
    "tags": []
   },
   "outputs": [],
   "source": [
    "test_basetable = pl.read_csv(dataPath + \"csv_files/test/test_base.csv\")\n",
    "test_static = pl.concat(\n",
    "    [\n",
    "        pl.read_csv(dataPath + \"csv_files/test/test_static_0_0.csv\").pipe(set_table_dtypes),\n",
    "        pl.read_csv(dataPath + \"csv_files/test/test_static_0_1.csv\").pipe(set_table_dtypes),\n",
    "        pl.read_csv(dataPath + \"csv_files/test/test_static_0_2.csv\").pipe(set_table_dtypes),\n",
    "    ],\n",
    "    how=\"vertical_relaxed\",\n",
    ")\n",
    "test_static_cb = pl.read_csv(dataPath + \"csv_files/test/test_static_cb_0.csv\").pipe(set_table_dtypes)\n",
    "test_person_1 = pl.read_csv(dataPath + \"csv_files/test/test_person_1.csv\").pipe(set_table_dtypes) \n",
    "test_credit_bureau_b_2 = pl.read_csv(dataPath + \"csv_files/test/test_credit_bureau_b_2.csv\").pipe(set_table_dtypes) "
   ]
  },
  {
   "cell_type": "code",
   "execution_count": 5,
   "id": "11e442f6",
   "metadata": {
    "execution": {
     "iopub.execute_input": "2024-03-26T21:35:08.461061Z",
     "iopub.status.busy": "2024-03-26T21:35:08.460573Z",
     "iopub.status.idle": "2024-03-26T21:35:08.488400Z",
     "shell.execute_reply": "2024-03-26T21:35:08.487025Z"
    },
    "papermill": {
     "duration": 0.036597,
     "end_time": "2024-03-26T21:35:08.490897",
     "exception": false,
     "start_time": "2024-03-26T21:35:08.454300",
     "status": "completed"
    },
    "tags": []
   },
   "outputs": [
    {
     "data": {
      "text/html": [
       "<div>\n",
       "<style scoped>\n",
       "    .dataframe tbody tr th:only-of-type {\n",
       "        vertical-align: middle;\n",
       "    }\n",
       "\n",
       "    .dataframe tbody tr th {\n",
       "        vertical-align: top;\n",
       "    }\n",
       "\n",
       "    .dataframe thead th {\n",
       "        text-align: right;\n",
       "    }\n",
       "</style>\n",
       "<table border=\"1\" class=\"dataframe\">\n",
       "  <thead>\n",
       "    <tr style=\"text-align: right;\">\n",
       "      <th></th>\n",
       "      <th>Variable</th>\n",
       "      <th>Description</th>\n",
       "    </tr>\n",
       "  </thead>\n",
       "  <tbody>\n",
       "    <tr>\n",
       "      <th>461</th>\n",
       "      <td>twobodfilling_608L</td>\n",
       "      <td>Type of application process.</td>\n",
       "    </tr>\n",
       "  </tbody>\n",
       "</table>\n",
       "</div>"
      ],
      "text/plain": [
       "               Variable                   Description\n",
       "461  twobodfilling_608L  Type of application process."
      ]
     },
     "metadata": {},
     "output_type": "display_data"
    }
   ],
   "source": [
    "# Use this to view variable descriptions\n",
    "pd.set_option('display.max_colwidth', None)\n",
    "display(feature_defs[feature_defs[\"Variable\"] == \"twobodfilling_608L\"])"
   ]
  },
  {
   "cell_type": "code",
   "execution_count": 6,
   "id": "c46ae26f",
   "metadata": {
    "execution": {
     "iopub.execute_input": "2024-03-26T21:35:08.503179Z",
     "iopub.status.busy": "2024-03-26T21:35:08.502486Z",
     "iopub.status.idle": "2024-03-26T21:35:10.502893Z",
     "shell.execute_reply": "2024-03-26T21:35:10.501950Z"
    },
    "papermill": {
     "duration": 2.009699,
     "end_time": "2024-03-26T21:35:10.505807",
     "exception": false,
     "start_time": "2024-03-26T21:35:08.496108",
     "status": "completed"
    },
    "tags": []
   },
   "outputs": [
    {
     "name": "stdout",
     "output_type": "stream",
     "text": [
      "['amtinstpaidbefduel24m_4187115A', 'annuity_780A', 'annuitynextmonth_57A', 'avginstallast24m_3658937A', 'avglnamtstart24m_4525187A', 'avgoutstandbalancel6m_4187114A', 'avgpmtlast12m_4525200A', 'credamount_770A', 'currdebt_22A', 'currdebtcredtyperange_828A', 'disbursedcredamount_1113A', 'downpmt_116A', 'inittransactionamount_650A', 'lastapprcommoditycat_1041M', 'lastapprcommoditytypec_5251766M', 'lastapprcredamount_781A', 'lastcancelreason_561M', 'lastotherinc_902A', 'lastotherlnsexpense_631A', 'lastrejectcommoditycat_161M', 'lastrejectcommodtypec_5251769M', 'lastrejectcredamount_222A', 'lastrejectreason_759M', 'lastrejectreasonclient_4145040M', 'maininc_215A', 'maxannuity_159A', 'maxannuity_4075009A', 'maxdebt4_972A', 'maxinstallast24m_3658928A', 'maxlnamtstart6m_4525199A', 'maxoutstandbalancel12m_4187113A', 'maxpmtlast3m_4525190A', 'previouscontdistrict_112M', 'price_1097A', 'sumoutstandtotal_3546847A', 'sumoutstandtotalest_4493215A', 'totaldebt_9A', 'totalsettled_863A', 'totinstallast1m_4525188A']\n",
      "['description_5085714M', 'education_1103M', 'education_88M', 'maritalst_385M', 'maritalst_893M', 'pmtaverage_3A', 'pmtaverage_4527227A', 'pmtaverage_4955615A', 'pmtssum_45A']\n"
     ]
    }
   ],
   "source": [
    "# We need to use aggregation functions in tables with depth > 1, so tables that contain num_group1 column or \n",
    "# also num_group2 column.\n",
    "train_person_1_feats_1 = train_person_1.group_by(\"case_id\").agg(\n",
    "    pl.col(\"mainoccupationinc_384A\").max().alias(\"mainoccupationinc_384A_max\"),\n",
    "    (pl.col(\"incometype_1044T\") == \"SELFEMPLOYED\").max().alias(\"mainoccupationinc_384A_any_selfemployed\")\n",
    ")\n",
    "\n",
    "# Here num_group1=0 has special meaning, it is the person who applied for the loan.\n",
    "train_person_1_feats_2 = train_person_1.select([\"case_id\", \"num_group1\", \"housetype_905L\"]).filter(\n",
    "    pl.col(\"num_group1\") == 0\n",
    ").drop(\"num_group1\").rename({\"housetype_905L\": \"person_housetype\"})\n",
    "\n",
    "# Here we have num_goup1 and num_group2, so we need to aggregate again.\n",
    "train_credit_bureau_b_2_feats = train_credit_bureau_b_2.group_by(\"case_id\").agg(\n",
    "    pl.col(\"pmts_pmtsoverdue_635A\").max().alias(\"pmts_pmtsoverdue_635A_max\"),\n",
    "    # pmts_dpdvalue_108P = value of past-due payment for active loan\n",
    "    (pl.col(\"pmts_dpdvalue_108P\") > 31).max().alias(\"pmts_dpdvalue_108P_over31\")\n",
    ")\n",
    "\n",
    "# We will process in this examples only A-type and M-type columns, so we need to select them.\n",
    "selected_static_cols = []\n",
    "for col in train_static.columns:\n",
    "    if col[-1] in (\"A\", \"M\"):\n",
    "        selected_static_cols.append(col)\n",
    "print(selected_static_cols)\n",
    "\n",
    "selected_static_cb_cols = []\n",
    "for col in train_static_cb.columns:\n",
    "    if col[-1] in (\"A\", \"M\"):\n",
    "        selected_static_cb_cols.append(col)\n",
    "print(selected_static_cb_cols)\n",
    "\n",
    "# Join all tables together.\n",
    "data = train_basetable.join(\n",
    "    train_static.select([\"case_id\"]+selected_static_cols), how=\"left\", on=\"case_id\"\n",
    ").join(\n",
    "    train_static_cb.select([\"case_id\"]+selected_static_cb_cols), how=\"left\", on=\"case_id\"\n",
    ").join(\n",
    "    train_person_1_feats_1, how=\"left\", on=\"case_id\"\n",
    ").join(\n",
    "    train_person_1_feats_2, how=\"left\", on=\"case_id\"\n",
    ").join(\n",
    "    train_credit_bureau_b_2_feats, how=\"left\", on=\"case_id\"\n",
    ")"
   ]
  },
  {
   "cell_type": "code",
   "execution_count": 7,
   "id": "90cac050",
   "metadata": {
    "execution": {
     "iopub.execute_input": "2024-03-26T21:35:10.518471Z",
     "iopub.status.busy": "2024-03-26T21:35:10.517713Z",
     "iopub.status.idle": "2024-03-26T21:35:10.532076Z",
     "shell.execute_reply": "2024-03-26T21:35:10.530843Z"
    },
    "papermill": {
     "duration": 0.024111,
     "end_time": "2024-03-26T21:35:10.535028",
     "exception": false,
     "start_time": "2024-03-26T21:35:10.510917",
     "status": "completed"
    },
    "tags": []
   },
   "outputs": [],
   "source": [
    "test_person_1_feats_1 = test_person_1.group_by(\"case_id\").agg(\n",
    "    pl.col(\"mainoccupationinc_384A\").max().alias(\"mainoccupationinc_384A_max\"),\n",
    "    (pl.col(\"incometype_1044T\") == \"SELFEMPLOYED\").max().alias(\"mainoccupationinc_384A_any_selfemployed\")\n",
    ")\n",
    "\n",
    "test_person_1_feats_2 = test_person_1.select([\"case_id\", \"num_group1\", \"housetype_905L\"]).filter(\n",
    "    pl.col(\"num_group1\") == 0\n",
    ").drop(\"num_group1\").rename({\"housetype_905L\": \"person_housetype\"})\n",
    "\n",
    "test_credit_bureau_b_2_feats = test_credit_bureau_b_2.group_by(\"case_id\").agg(\n",
    "    pl.col(\"pmts_pmtsoverdue_635A\").max().alias(\"pmts_pmtsoverdue_635A_max\"),\n",
    "    (pl.col(\"pmts_dpdvalue_108P\") > 31).max().alias(\"pmts_dpdvalue_108P_over31\")\n",
    ")\n",
    "\n",
    "data_submission = test_basetable.join(\n",
    "    test_static.select([\"case_id\"]+selected_static_cols), how=\"left\", on=\"case_id\"\n",
    ").join(\n",
    "    test_static_cb.select([\"case_id\"]+selected_static_cb_cols), how=\"left\", on=\"case_id\"\n",
    ").join(\n",
    "    test_person_1_feats_1, how=\"left\", on=\"case_id\"\n",
    ").join(\n",
    "    test_person_1_feats_2, how=\"left\", on=\"case_id\"\n",
    ").join(\n",
    "    test_credit_bureau_b_2_feats, how=\"left\", on=\"case_id\"\n",
    ")"
   ]
  },
  {
   "cell_type": "code",
   "execution_count": 8,
   "id": "6fb83aa6",
   "metadata": {
    "execution": {
     "iopub.execute_input": "2024-03-26T21:35:10.547684Z",
     "iopub.status.busy": "2024-03-26T21:35:10.546836Z",
     "iopub.status.idle": "2024-03-26T21:35:12.821382Z",
     "shell.execute_reply": "2024-03-26T21:35:12.820270Z"
    },
    "papermill": {
     "duration": 2.283865,
     "end_time": "2024-03-26T21:35:12.824153",
     "exception": false,
     "start_time": "2024-03-26T21:35:10.540288",
     "status": "completed"
    },
    "tags": []
   },
   "outputs": [
    {
     "name": "stdout",
     "output_type": "stream",
     "text": [
      "['avgoutstandbalancel6m_4187114A', 'currdebt_22A', 'downpmt_116A', 'lastrejectcredamount_222A', 'lastrejectreason_759M', 'maxoutstandbalancel12m_4187113A', 'totaldebt_9A', 'totinstallast1m_4525188A', 'education_88M']\n"
     ]
    }
   ],
   "source": [
    "# These are the features we are using for the initial run of the model\n",
    "# We hand picked them based in intuition of what variables matter the most in determining defaults\n",
    "columns_to_use = ['avgoutstandbalancel6m_4187114A', 'currdebt_22A', 'downpmt_116A', \n",
    "           'lastrejectcredamount_222A', 'lastrejectreason_759M',  'maxannuity_159A'\n",
    "            'maxdebt4_972A',  'maxoutstandbalancel12m_4187113A',  'totaldebt_9A', \n",
    "            'totinstallast1m_4525188A', 'education_88M','case_id',\"WEEK_NUM\", \"target\"]\n",
    "for c in data.columns:\n",
    "    if c in columns_to_use:\n",
    "        pass\n",
    "    else:\n",
    "        data = data.drop(columns=c)\n",
    "\n",
    "\n",
    "case_ids = data[\"case_id\"].unique().shuffle(seed=1)\n",
    "case_ids_train, case_ids_test = train_test_split(case_ids, train_size=0.6, random_state=1)\n",
    "case_ids_valid, case_ids_test = train_test_split(case_ids_test, train_size=0.5, random_state=1)\n",
    "\n",
    "cols_pred = []\n",
    "for col in data.columns:\n",
    "    if col[-1].isupper() and col[:-1].islower():\n",
    "        cols_pred.append(col)\n",
    "\n",
    "print(cols_pred)\n",
    "\n",
    "\n",
    "\n",
    "def from_polars_to_pandas(case_ids: pl.DataFrame) -> pl.DataFrame:\n",
    "    return (\n",
    "        data.filter(pl.col(\"case_id\").is_in(case_ids))[[\"case_id\", \"WEEK_NUM\", \"target\"]].to_pandas(),\n",
    "        data.filter(pl.col(\"case_id\").is_in(case_ids))[cols_pred].to_pandas(),\n",
    "        data.filter(pl.col(\"case_id\").is_in(case_ids))[\"target\"].to_pandas()\n",
    "    )\n",
    "\n",
    "base_train, X_train, y_train = from_polars_to_pandas(case_ids_train)\n",
    "base_valid, X_valid, y_valid = from_polars_to_pandas(case_ids_valid)\n",
    "base_test, X_test, y_test = from_polars_to_pandas(case_ids_test)\n",
    "\n",
    "for df in [X_train, X_valid, X_test]:\n",
    "    df = convert_strings(df)"
   ]
  },
  {
   "cell_type": "code",
   "execution_count": 9,
   "id": "8699e1d4",
   "metadata": {
    "execution": {
     "iopub.execute_input": "2024-03-26T21:35:12.836637Z",
     "iopub.status.busy": "2024-03-26T21:35:12.836191Z",
     "iopub.status.idle": "2024-03-26T21:35:12.845411Z",
     "shell.execute_reply": "2024-03-26T21:35:12.844036Z"
    },
    "papermill": {
     "duration": 0.01849,
     "end_time": "2024-03-26T21:35:12.848058",
     "exception": false,
     "start_time": "2024-03-26T21:35:12.829568",
     "status": "completed"
    },
    "tags": []
   },
   "outputs": [
    {
     "data": {
      "text/plain": [
       "avgoutstandbalancel6m_4187114A      float64\n",
       "currdebt_22A                        float64\n",
       "downpmt_116A                        float64\n",
       "lastrejectcredamount_222A           float64\n",
       "lastrejectreason_759M              category\n",
       "maxoutstandbalancel12m_4187113A     float64\n",
       "totaldebt_9A                        float64\n",
       "totinstallast1m_4525188A            float64\n",
       "education_88M                      category\n",
       "dtype: object"
      ]
     },
     "execution_count": 9,
     "metadata": {},
     "output_type": "execute_result"
    }
   ],
   "source": [
    "X_train.dtypes"
   ]
  },
  {
   "cell_type": "code",
   "execution_count": 10,
   "id": "0d5f00ab",
   "metadata": {
    "execution": {
     "iopub.execute_input": "2024-03-26T21:35:12.860763Z",
     "iopub.status.busy": "2024-03-26T21:35:12.860342Z",
     "iopub.status.idle": "2024-03-26T21:35:12.865844Z",
     "shell.execute_reply": "2024-03-26T21:35:12.864714Z"
    },
    "papermill": {
     "duration": 0.015175,
     "end_time": "2024-03-26T21:35:12.868745",
     "exception": false,
     "start_time": "2024-03-26T21:35:12.853570",
     "status": "completed"
    },
    "tags": []
   },
   "outputs": [
    {
     "name": "stdout",
     "output_type": "stream",
     "text": [
      "Train: (915995, 9)\n",
      "Valid: (305332, 9)\n",
      "Test: (305332, 9)\n"
     ]
    }
   ],
   "source": [
    "print(f\"Train: {X_train.shape}\")\n",
    "print(f\"Valid: {X_valid.shape}\")\n",
    "print(f\"Test: {X_test.shape}\")"
   ]
  },
  {
   "cell_type": "code",
   "execution_count": 11,
   "id": "6871e9a2",
   "metadata": {
    "execution": {
     "iopub.execute_input": "2024-03-26T21:35:12.881544Z",
     "iopub.status.busy": "2024-03-26T21:35:12.881077Z",
     "iopub.status.idle": "2024-03-26T21:35:12.959298Z",
     "shell.execute_reply": "2024-03-26T21:35:12.958076Z"
    },
    "papermill": {
     "duration": 0.088024,
     "end_time": "2024-03-26T21:35:12.962151",
     "exception": false,
     "start_time": "2024-03-26T21:35:12.874127",
     "status": "completed"
    },
    "tags": []
   },
   "outputs": [],
   "source": [
    "# This block filters the data into just floats, removes Nan, and shortens\n",
    "# This removes too many features from the data, but it was a good way to test our method\n",
    "\n",
    "X_train_float = X_train.select_dtypes(\"float64\")\n",
    "X_test_float = X_test.select_dtypes(\"float64\")\n",
    "\n",
    "X_train_float_s = X_train_float.iloc[:100000]\n",
    "y_train_s = y_train.iloc[:100000]\n",
    "X_test_float_s = X_test_float.iloc[:30000]\n",
    "y_test_s = y_test.iloc[:30000]\n",
    "\n",
    "imp = SimpleImputer(missing_values=np.nan, strategy='mean')\n",
    "imp = imp.fit(X_train_float_s)\n",
    "\n",
    "X_train_imp = imp.transform(X_train_float_s)\n",
    "X_test_imp = imp.transform(X_test_float_s)"
   ]
  },
  {
   "cell_type": "code",
   "execution_count": 12,
   "id": "5aea6927",
   "metadata": {
    "execution": {
     "iopub.execute_input": "2024-03-26T21:35:12.974933Z",
     "iopub.status.busy": "2024-03-26T21:35:12.974526Z",
     "iopub.status.idle": "2024-03-26T21:35:37.733361Z",
     "shell.execute_reply": "2024-03-26T21:35:37.731638Z"
    },
    "papermill": {
     "duration": 24.768725,
     "end_time": "2024-03-26T21:35:37.736444",
     "exception": false,
     "start_time": "2024-03-26T21:35:12.967719",
     "status": "completed"
    },
    "tags": []
   },
   "outputs": [
    {
     "data": {
      "text/plain": [
       "0.9616666666666667"
      ]
     },
     "execution_count": 12,
     "metadata": {},
     "output_type": "execute_result"
    }
   ],
   "source": [
    "# Random forest with highly filtered data\n",
    "\n",
    "rfc = RandomForestClassifier()\n",
    "rfc.fit(X_train_imp, y_train_s)\n",
    "rfc.score(X_test_imp, y_test_s)"
   ]
  },
  {
   "cell_type": "code",
   "execution_count": 13,
   "id": "2cfbcb8f",
   "metadata": {
    "execution": {
     "iopub.execute_input": "2024-03-26T21:35:37.750275Z",
     "iopub.status.busy": "2024-03-26T21:35:37.749749Z",
     "iopub.status.idle": "2024-03-26T21:35:37.875558Z",
     "shell.execute_reply": "2024-03-26T21:35:37.874393Z"
    },
    "papermill": {
     "duration": 0.136197,
     "end_time": "2024-03-26T21:35:37.878561",
     "exception": false,
     "start_time": "2024-03-26T21:35:37.742364",
     "status": "completed"
    },
    "tags": []
   },
   "outputs": [],
   "source": [
    "# Using one hot encoding to keep all classification features and nan values\n",
    "\n",
    "from sklearn.preprocessing import OneHotEncoder\n",
    "\n",
    "m = 5000\n",
    "\n",
    "demo = X_train.head(m)\n",
    "y = y_train.head(m)\n",
    "\n",
    "encoder = OneHotEncoder()\n",
    "encoder.fit(demo)\n",
    "transformed = encoder.transform(demo)\n",
    "ohe_df = pd.DataFrame(transformed.toarray())\n",
    "X = ohe_df\n",
    "\n",
    "\n",
    "n = 4428\n",
    "\n",
    "demot = X_test.head(n)\n",
    "yt = y_test.head(n)\n",
    "\n",
    "encoder = OneHotEncoder()\n",
    "encoder.fit(demot)\n",
    "transformed = encoder.transform(demot)\n",
    "ohe_dft = pd.DataFrame(transformed.toarray())\n",
    "Xt = ohe_dft\n",
    "\n"
   ]
  },
  {
   "cell_type": "code",
   "execution_count": 14,
   "id": "677d4bd4",
   "metadata": {
    "execution": {
     "iopub.execute_input": "2024-03-26T21:35:37.893335Z",
     "iopub.status.busy": "2024-03-26T21:35:37.892201Z",
     "iopub.status.idle": "2024-03-26T21:35:37.898805Z",
     "shell.execute_reply": "2024-03-26T21:35:37.897549Z"
    },
    "papermill": {
     "duration": 0.016103,
     "end_time": "2024-03-26T21:35:37.901181",
     "exception": false,
     "start_time": "2024-03-26T21:35:37.885078",
     "status": "completed"
    },
    "tags": []
   },
   "outputs": [
    {
     "name": "stdout",
     "output_type": "stream",
     "text": [
      "Train: (5000, 744)\n",
      "Test: (4428, 744)\n"
     ]
    }
   ],
   "source": [
    "print(f\"Train: {X.shape}\")\n",
    "print(f\"Test: {Xt.shape}\")"
   ]
  },
  {
   "cell_type": "code",
   "execution_count": 15,
   "id": "fc8e3fd6",
   "metadata": {
    "execution": {
     "iopub.execute_input": "2024-03-26T21:35:37.914064Z",
     "iopub.status.busy": "2024-03-26T21:35:37.913623Z",
     "iopub.status.idle": "2024-03-26T21:35:42.122796Z",
     "shell.execute_reply": "2024-03-26T21:35:42.121751Z"
    },
    "papermill": {
     "duration": 4.218443,
     "end_time": "2024-03-26T21:35:42.125154",
     "exception": false,
     "start_time": "2024-03-26T21:35:37.906711",
     "status": "completed"
    },
    "tags": []
   },
   "outputs": [
    {
     "data": {
      "text/plain": [
       "0.9695121951219512"
      ]
     },
     "execution_count": 15,
     "metadata": {},
     "output_type": "execute_result"
    }
   ],
   "source": [
    "# Random Forest with One Hot encoded data\n",
    "\n",
    "rfcOhe = RandomForestClassifier()\n",
    "rfcOhe.fit(X, y)\n",
    "rfcOhe.score(Xt, yt)"
   ]
  },
  {
   "cell_type": "code",
   "execution_count": 16,
   "id": "e156a6f8",
   "metadata": {
    "execution": {
     "iopub.execute_input": "2024-03-26T21:35:42.138834Z",
     "iopub.status.busy": "2024-03-26T21:35:42.138410Z",
     "iopub.status.idle": "2024-03-26T21:35:42.431827Z",
     "shell.execute_reply": "2024-03-26T21:35:42.430478Z"
    },
    "papermill": {
     "duration": 0.30345,
     "end_time": "2024-03-26T21:35:42.434585",
     "exception": false,
     "start_time": "2024-03-26T21:35:42.131135",
     "status": "completed"
    },
    "tags": []
   },
   "outputs": [
    {
     "data": {
      "text/html": [
       "<div>\n",
       "<style scoped>\n",
       "    .dataframe tbody tr th:only-of-type {\n",
       "        vertical-align: middle;\n",
       "    }\n",
       "\n",
       "    .dataframe tbody tr th {\n",
       "        vertical-align: top;\n",
       "    }\n",
       "\n",
       "    .dataframe thead th {\n",
       "        text-align: right;\n",
       "    }\n",
       "</style>\n",
       "<table border=\"1\" class=\"dataframe\">\n",
       "  <thead>\n",
       "    <tr style=\"text-align: right;\">\n",
       "      <th></th>\n",
       "      <th>precision</th>\n",
       "      <th>recall</th>\n",
       "      <th>f1-score</th>\n",
       "      <th>support</th>\n",
       "    </tr>\n",
       "  </thead>\n",
       "  <tbody>\n",
       "    <tr>\n",
       "      <th>0</th>\n",
       "      <td>0.972658</td>\n",
       "      <td>1.000000</td>\n",
       "      <td>0.986139</td>\n",
       "      <td>4838.0000</td>\n",
       "    </tr>\n",
       "    <tr>\n",
       "      <th>1</th>\n",
       "      <td>1.000000</td>\n",
       "      <td>0.160494</td>\n",
       "      <td>0.276596</td>\n",
       "      <td>162.0000</td>\n",
       "    </tr>\n",
       "    <tr>\n",
       "      <th>accuracy</th>\n",
       "      <td>0.972800</td>\n",
       "      <td>0.972800</td>\n",
       "      <td>0.972800</td>\n",
       "      <td>0.9728</td>\n",
       "    </tr>\n",
       "    <tr>\n",
       "      <th>macro avg</th>\n",
       "      <td>0.986329</td>\n",
       "      <td>0.580247</td>\n",
       "      <td>0.631368</td>\n",
       "      <td>5000.0000</td>\n",
       "    </tr>\n",
       "    <tr>\n",
       "      <th>weighted avg</th>\n",
       "      <td>0.973544</td>\n",
       "      <td>0.972800</td>\n",
       "      <td>0.963150</td>\n",
       "      <td>5000.0000</td>\n",
       "    </tr>\n",
       "  </tbody>\n",
       "</table>\n",
       "</div>"
      ],
      "text/plain": [
       "              precision    recall  f1-score    support\n",
       "0              0.972658  1.000000  0.986139  4838.0000\n",
       "1              1.000000  0.160494  0.276596   162.0000\n",
       "accuracy       0.972800  0.972800  0.972800     0.9728\n",
       "macro avg      0.986329  0.580247  0.631368  5000.0000\n",
       "weighted avg   0.973544  0.972800  0.963150  5000.0000"
      ]
     },
     "execution_count": 16,
     "metadata": {},
     "output_type": "execute_result"
    }
   ],
   "source": [
    "# CLassification report\n",
    "\n",
    "log_results = rfcOhe.predict(X)\n",
    "classification_results = pd.DataFrame(classification_report(y, log_results, output_dict=True)).transpose()\n",
    "classification_results"
   ]
  }
 ],
 "metadata": {
  "kaggle": {
   "accelerator": "none",
   "dataSources": [
    {
     "databundleVersionId": 7921029,
     "sourceId": 50160,
     "sourceType": "competition"
    }
   ],
   "dockerImageVersionId": 30635,
   "isGpuEnabled": false,
   "isInternetEnabled": false,
   "language": "python",
   "sourceType": "notebook"
  },
  "kernelspec": {
   "display_name": "Python 3",
   "language": "python",
   "name": "python3"
  },
  "language_info": {
   "codemirror_mode": {
    "name": "ipython",
    "version": 3
   },
   "file_extension": ".py",
   "mimetype": "text/x-python",
   "name": "python",
   "nbconvert_exporter": "python",
   "pygments_lexer": "ipython3",
   "version": "3.10.12"
  },
  "papermill": {
   "default_parameters": {},
   "duration": 63.046058,
   "end_time": "2024-03-26T21:35:43.567921",
   "environment_variables": {},
   "exception": null,
   "input_path": "__notebook__.ipynb",
   "output_path": "__notebook__.ipynb",
   "parameters": {},
   "start_time": "2024-03-26T21:34:40.521863",
   "version": "2.4.0"
  }
 },
 "nbformat": 4,
 "nbformat_minor": 5
}
