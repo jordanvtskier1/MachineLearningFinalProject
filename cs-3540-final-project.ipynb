{
 "cells": [
  {
   "cell_type": "markdown",
   "id": "98934730",
   "metadata": {
    "_cell_guid": "b1076dfc-b9ad-4769-8c92-a6c4dae69d19",
    "_uuid": "8f2839f25d086af736a60e9eeb907d3b93b6e0e5",
    "papermill": {
     "duration": 0.009613,
     "end_time": "2024-03-26T20:18:41.356586",
     "exception": false,
     "start_time": "2024-03-26T20:18:41.346973",
     "status": "completed"
    },
    "tags": []
   },
   "source": [
    "# Example Notebook\n",
    "\n",
    "Welcome to the example notebook for the Home Credit Kaggle competition. The goal of this competition is to determine how likely a customer is going to default on an issued loan. The main difference between the [first](https://www.kaggle.com/c/home-credit-default-risk) and this competition is that now your submission will be scored with a custom metric that will take into account how well the model performs in future. A decline in performance will be penalized. The goal is to create a model that is stable and performs well in the future.\n",
    "\n",
    "In this notebook you will see how to:\n",
    "* Load the data\n",
    "* Join tables with Polars - a DataFrame library implemented in Rust language, designed to be blazingy fast and memory efficient.  \n",
    "* Create simple aggregation features\n",
    "* Train a LightGBM model\n",
    "* Create a submission table\n",
    "\n",
    "## Load the data"
   ]
  },
  {
   "cell_type": "code",
   "execution_count": 1,
   "id": "1205871a",
   "metadata": {
    "execution": {
     "iopub.execute_input": "2024-03-26T20:18:41.378096Z",
     "iopub.status.busy": "2024-03-26T20:18:41.377329Z",
     "iopub.status.idle": "2024-03-26T20:18:45.925017Z",
     "shell.execute_reply": "2024-03-26T20:18:45.923901Z"
    },
    "papermill": {
     "duration": 4.561894,
     "end_time": "2024-03-26T20:18:45.927772",
     "exception": false,
     "start_time": "2024-03-26T20:18:41.365878",
     "status": "completed"
    },
    "tags": []
   },
   "outputs": [],
   "source": [
    "import polars as pl\n",
    "import numpy as np\n",
    "import pandas as pd\n",
    "import lightgbm as lgb\n",
    "from sklearn.model_selection import train_test_split\n",
    "from sklearn.metrics import roc_auc_score\n",
    "from sklearn.linear_model import LogisticRegression\n",
    "\n",
    "dataPath = \"/kaggle/input/home-credit-credit-risk-model-stability/\""
   ]
  },
  {
   "cell_type": "code",
   "execution_count": 2,
   "id": "f82e6845",
   "metadata": {
    "execution": {
     "iopub.execute_input": "2024-03-26T20:18:45.948766Z",
     "iopub.status.busy": "2024-03-26T20:18:45.948346Z",
     "iopub.status.idle": "2024-03-26T20:18:45.967454Z",
     "shell.execute_reply": "2024-03-26T20:18:45.966254Z"
    },
    "papermill": {
     "duration": 0.032901,
     "end_time": "2024-03-26T20:18:45.970270",
     "exception": false,
     "start_time": "2024-03-26T20:18:45.937369",
     "status": "completed"
    },
    "tags": []
   },
   "outputs": [],
   "source": [
    "feature_defs = pd.read_csv(dataPath + \"feature_definitions.csv\")"
   ]
  },
  {
   "cell_type": "code",
   "execution_count": 3,
   "id": "dbe2d097",
   "metadata": {
    "execution": {
     "iopub.execute_input": "2024-03-26T20:18:45.992536Z",
     "iopub.status.busy": "2024-03-26T20:18:45.992128Z",
     "iopub.status.idle": "2024-03-26T20:18:46.001386Z",
     "shell.execute_reply": "2024-03-26T20:18:46.000128Z"
    },
    "papermill": {
     "duration": 0.023555,
     "end_time": "2024-03-26T20:18:46.003825",
     "exception": false,
     "start_time": "2024-03-26T20:18:45.980270",
     "status": "completed"
    },
    "tags": []
   },
   "outputs": [],
   "source": [
    "def set_table_dtypes(df: pl.DataFrame) -> pl.DataFrame:\n",
    "    # implement here all desired dtypes for tables\n",
    "    # the following is just an example\n",
    "    for col in df.columns:\n",
    "        # last letter of column name will help you determine the type\n",
    "        if col[-1] in (\"P\", \"A\"):\n",
    "            df = df.with_columns(pl.col(col).cast(pl.Float64).alias(col))\n",
    "\n",
    "    return df\n",
    "\n",
    "def convert_strings(df: pd.DataFrame) -> pd.DataFrame:\n",
    "    for col in df.columns:  \n",
    "        if df[col].dtype.name in ['object', 'string']:\n",
    "            df[col] = df[col].astype(\"string\").astype('category')\n",
    "            current_categories = df[col].cat.categories\n",
    "            new_categories = current_categories.to_list() + [\"Unknown\"]\n",
    "            new_dtype = pd.CategoricalDtype(categories=new_categories, ordered=True)\n",
    "            df[col] = df[col].astype(new_dtype)\n",
    "    return df"
   ]
  },
  {
   "cell_type": "code",
   "execution_count": 4,
   "id": "bcaa8b85",
   "metadata": {
    "execution": {
     "iopub.execute_input": "2024-03-26T20:18:46.025280Z",
     "iopub.status.busy": "2024-03-26T20:18:46.024883Z",
     "iopub.status.idle": "2024-03-26T20:19:06.740825Z",
     "shell.execute_reply": "2024-03-26T20:19:06.739796Z"
    },
    "papermill": {
     "duration": 20.730102,
     "end_time": "2024-03-26T20:19:06.743636",
     "exception": false,
     "start_time": "2024-03-26T20:18:46.013534",
     "status": "completed"
    },
    "tags": []
   },
   "outputs": [],
   "source": [
    "train_basetable = pl.read_csv(dataPath + \"csv_files/train/train_base.csv\")\n",
    "train_static = pl.concat(\n",
    "    [\n",
    "        pl.read_csv(dataPath + \"csv_files/train/train_static_0_0.csv\").pipe(set_table_dtypes),\n",
    "        pl.read_csv(dataPath + \"csv_files/train/train_static_0_1.csv\").pipe(set_table_dtypes),\n",
    "    ],\n",
    "    how=\"vertical_relaxed\",\n",
    ")\n",
    "train_static_cb = pl.read_csv(dataPath + \"csv_files/train/train_static_cb_0.csv\").pipe(set_table_dtypes)\n",
    "train_person_1 = pl.read_csv(dataPath + \"csv_files/train/train_person_1.csv\").pipe(set_table_dtypes) \n",
    "train_credit_bureau_b_2 = pl.read_csv(dataPath + \"csv_files/train/train_credit_bureau_b_2.csv\").pipe(set_table_dtypes) "
   ]
  },
  {
   "cell_type": "code",
   "execution_count": 5,
   "id": "5f39441f",
   "metadata": {
    "execution": {
     "iopub.execute_input": "2024-03-26T20:19:06.764734Z",
     "iopub.status.busy": "2024-03-26T20:19:06.763990Z",
     "iopub.status.idle": "2024-03-26T20:19:06.844968Z",
     "shell.execute_reply": "2024-03-26T20:19:06.843801Z"
    },
    "papermill": {
     "duration": 0.095196,
     "end_time": "2024-03-26T20:19:06.848321",
     "exception": false,
     "start_time": "2024-03-26T20:19:06.753125",
     "status": "completed"
    },
    "tags": []
   },
   "outputs": [],
   "source": [
    "test_basetable = pl.read_csv(dataPath + \"csv_files/test/test_base.csv\")\n",
    "test_static = pl.concat(\n",
    "    [\n",
    "        pl.read_csv(dataPath + \"csv_files/test/test_static_0_0.csv\").pipe(set_table_dtypes),\n",
    "        pl.read_csv(dataPath + \"csv_files/test/test_static_0_1.csv\").pipe(set_table_dtypes),\n",
    "        pl.read_csv(dataPath + \"csv_files/test/test_static_0_2.csv\").pipe(set_table_dtypes),\n",
    "    ],\n",
    "    how=\"vertical_relaxed\",\n",
    ")\n",
    "test_static_cb = pl.read_csv(dataPath + \"csv_files/test/test_static_cb_0.csv\").pipe(set_table_dtypes)\n",
    "test_person_1 = pl.read_csv(dataPath + \"csv_files/test/test_person_1.csv\").pipe(set_table_dtypes) \n",
    "test_credit_bureau_b_2 = pl.read_csv(dataPath + \"csv_files/test/test_credit_bureau_b_2.csv\").pipe(set_table_dtypes) "
   ]
  },
  {
   "cell_type": "markdown",
   "id": "1513f8d4",
   "metadata": {
    "papermill": {
     "duration": 0.008915,
     "end_time": "2024-03-26T20:19:06.866536",
     "exception": false,
     "start_time": "2024-03-26T20:19:06.857621",
     "status": "completed"
    },
    "tags": []
   },
   "source": [
    "## Feature engineering\n",
    "\n",
    "In this part, we can see a simple example of joining tables via `case_id`. Here the loading and joining is done with polars library. Polars library is blazingly fast and has much smaller memory footprint than pandas. "
   ]
  },
  {
   "cell_type": "code",
   "execution_count": 6,
   "id": "f19f6f1a",
   "metadata": {
    "execution": {
     "iopub.execute_input": "2024-03-26T20:19:06.886547Z",
     "iopub.status.busy": "2024-03-26T20:19:06.886086Z",
     "iopub.status.idle": "2024-03-26T20:19:06.913708Z",
     "shell.execute_reply": "2024-03-26T20:19:06.912871Z"
    },
    "papermill": {
     "duration": 0.040491,
     "end_time": "2024-03-26T20:19:06.916127",
     "exception": false,
     "start_time": "2024-03-26T20:19:06.875636",
     "status": "completed"
    },
    "tags": []
   },
   "outputs": [
    {
     "data": {
      "text/html": [
       "<div>\n",
       "<style scoped>\n",
       "    .dataframe tbody tr th:only-of-type {\n",
       "        vertical-align: middle;\n",
       "    }\n",
       "\n",
       "    .dataframe tbody tr th {\n",
       "        vertical-align: top;\n",
       "    }\n",
       "\n",
       "    .dataframe thead th {\n",
       "        text-align: right;\n",
       "    }\n",
       "</style>\n",
       "<table border=\"1\" class=\"dataframe\">\n",
       "  <thead>\n",
       "    <tr style=\"text-align: right;\">\n",
       "      <th></th>\n",
       "      <th>Variable</th>\n",
       "      <th>Description</th>\n",
       "    </tr>\n",
       "  </thead>\n",
       "  <tbody>\n",
       "    <tr>\n",
       "      <th>461</th>\n",
       "      <td>twobodfilling_608L</td>\n",
       "      <td>Type of application process.</td>\n",
       "    </tr>\n",
       "  </tbody>\n",
       "</table>\n",
       "</div>"
      ],
      "text/plain": [
       "               Variable                   Description\n",
       "461  twobodfilling_608L  Type of application process."
      ]
     },
     "metadata": {},
     "output_type": "display_data"
    }
   ],
   "source": [
    "# Use this to view variable descriptions\n",
    "pd.set_option('display.max_colwidth', None)\n",
    "display(feature_defs[feature_defs[\"Variable\"] == \"twobodfilling_608L\"])"
   ]
  },
  {
   "cell_type": "code",
   "execution_count": 7,
   "id": "75e1d5f8",
   "metadata": {
    "execution": {
     "iopub.execute_input": "2024-03-26T20:19:06.937360Z",
     "iopub.status.busy": "2024-03-26T20:19:06.936729Z",
     "iopub.status.idle": "2024-03-26T20:19:08.800999Z",
     "shell.execute_reply": "2024-03-26T20:19:08.799920Z"
    },
    "papermill": {
     "duration": 1.878022,
     "end_time": "2024-03-26T20:19:08.803682",
     "exception": false,
     "start_time": "2024-03-26T20:19:06.925660",
     "status": "completed"
    },
    "tags": []
   },
   "outputs": [
    {
     "name": "stdout",
     "output_type": "stream",
     "text": [
      "['amtinstpaidbefduel24m_4187115A', 'annuity_780A', 'annuitynextmonth_57A', 'avginstallast24m_3658937A', 'avglnamtstart24m_4525187A', 'avgoutstandbalancel6m_4187114A', 'avgpmtlast12m_4525200A', 'credamount_770A', 'currdebt_22A', 'currdebtcredtyperange_828A', 'disbursedcredamount_1113A', 'downpmt_116A', 'inittransactionamount_650A', 'lastapprcommoditycat_1041M', 'lastapprcommoditytypec_5251766M', 'lastapprcredamount_781A', 'lastcancelreason_561M', 'lastotherinc_902A', 'lastotherlnsexpense_631A', 'lastrejectcommoditycat_161M', 'lastrejectcommodtypec_5251769M', 'lastrejectcredamount_222A', 'lastrejectreason_759M', 'lastrejectreasonclient_4145040M', 'maininc_215A', 'maxannuity_159A', 'maxannuity_4075009A', 'maxdebt4_972A', 'maxinstallast24m_3658928A', 'maxlnamtstart6m_4525199A', 'maxoutstandbalancel12m_4187113A', 'maxpmtlast3m_4525190A', 'previouscontdistrict_112M', 'price_1097A', 'sumoutstandtotal_3546847A', 'sumoutstandtotalest_4493215A', 'totaldebt_9A', 'totalsettled_863A', 'totinstallast1m_4525188A']\n",
      "['description_5085714M', 'education_1103M', 'education_88M', 'maritalst_385M', 'maritalst_893M', 'pmtaverage_3A', 'pmtaverage_4527227A', 'pmtaverage_4955615A', 'pmtssum_45A']\n"
     ]
    }
   ],
   "source": [
    "# We need to use aggregation functions in tables with depth > 1, so tables that contain num_group1 column or \n",
    "# also num_group2 column.\n",
    "train_person_1_feats_1 = train_person_1.group_by(\"case_id\").agg(\n",
    "    pl.col(\"mainoccupationinc_384A\").max().alias(\"mainoccupationinc_384A_max\"),\n",
    "    (pl.col(\"incometype_1044T\") == \"SELFEMPLOYED\").max().alias(\"mainoccupationinc_384A_any_selfemployed\")\n",
    ")\n",
    "\n",
    "# Here num_group1=0 has special meaning, it is the person who applied for the loan.\n",
    "train_person_1_feats_2 = train_person_1.select([\"case_id\", \"num_group1\", \"housetype_905L\"]).filter(\n",
    "    pl.col(\"num_group1\") == 0\n",
    ").drop(\"num_group1\").rename({\"housetype_905L\": \"person_housetype\"})\n",
    "\n",
    "# Here we have num_goup1 and num_group2, so we need to aggregate again.\n",
    "train_credit_bureau_b_2_feats = train_credit_bureau_b_2.group_by(\"case_id\").agg(\n",
    "    pl.col(\"pmts_pmtsoverdue_635A\").max().alias(\"pmts_pmtsoverdue_635A_max\"),\n",
    "    # pmts_dpdvalue_108P = value of past-due payment for active loan\n",
    "    (pl.col(\"pmts_dpdvalue_108P\") > 31).max().alias(\"pmts_dpdvalue_108P_over31\")\n",
    ")\n",
    "\n",
    "# We will process in this examples only A-type and M-type columns, so we need to select them.\n",
    "selected_static_cols = []\n",
    "for col in train_static.columns:\n",
    "    if col[-1] in (\"A\", \"M\"):\n",
    "        selected_static_cols.append(col)\n",
    "print(selected_static_cols)\n",
    "\n",
    "selected_static_cb_cols = []\n",
    "for col in train_static_cb.columns:\n",
    "    if col[-1] in (\"A\", \"M\"):\n",
    "        selected_static_cb_cols.append(col)\n",
    "print(selected_static_cb_cols)\n",
    "\n",
    "# Join all tables together.\n",
    "data = train_basetable.join(\n",
    "    train_static.select([\"case_id\"]+selected_static_cols), how=\"left\", on=\"case_id\"\n",
    ").join(\n",
    "    train_static_cb.select([\"case_id\"]+selected_static_cb_cols), how=\"left\", on=\"case_id\"\n",
    ").join(\n",
    "    train_person_1_feats_1, how=\"left\", on=\"case_id\"\n",
    ").join(\n",
    "    train_person_1_feats_2, how=\"left\", on=\"case_id\"\n",
    ").join(\n",
    "    train_credit_bureau_b_2_feats, how=\"left\", on=\"case_id\"\n",
    ")"
   ]
  },
  {
   "cell_type": "code",
   "execution_count": 8,
   "id": "1101e070",
   "metadata": {
    "execution": {
     "iopub.execute_input": "2024-03-26T20:19:08.825308Z",
     "iopub.status.busy": "2024-03-26T20:19:08.824911Z",
     "iopub.status.idle": "2024-03-26T20:19:08.841182Z",
     "shell.execute_reply": "2024-03-26T20:19:08.840107Z"
    },
    "papermill": {
     "duration": 0.030116,
     "end_time": "2024-03-26T20:19:08.843808",
     "exception": false,
     "start_time": "2024-03-26T20:19:08.813692",
     "status": "completed"
    },
    "tags": []
   },
   "outputs": [],
   "source": [
    "test_person_1_feats_1 = test_person_1.group_by(\"case_id\").agg(\n",
    "    pl.col(\"mainoccupationinc_384A\").max().alias(\"mainoccupationinc_384A_max\"),\n",
    "    (pl.col(\"incometype_1044T\") == \"SELFEMPLOYED\").max().alias(\"mainoccupationinc_384A_any_selfemployed\")\n",
    ")\n",
    "\n",
    "test_person_1_feats_2 = test_person_1.select([\"case_id\", \"num_group1\", \"housetype_905L\"]).filter(\n",
    "    pl.col(\"num_group1\") == 0\n",
    ").drop(\"num_group1\").rename({\"housetype_905L\": \"person_housetype\"})\n",
    "\n",
    "test_credit_bureau_b_2_feats = test_credit_bureau_b_2.group_by(\"case_id\").agg(\n",
    "    pl.col(\"pmts_pmtsoverdue_635A\").max().alias(\"pmts_pmtsoverdue_635A_max\"),\n",
    "    (pl.col(\"pmts_dpdvalue_108P\") > 31).max().alias(\"pmts_dpdvalue_108P_over31\")\n",
    ")\n",
    "\n",
    "data_submission = test_basetable.join(\n",
    "    test_static.select([\"case_id\"]+selected_static_cols), how=\"left\", on=\"case_id\"\n",
    ").join(\n",
    "    test_static_cb.select([\"case_id\"]+selected_static_cb_cols), how=\"left\", on=\"case_id\"\n",
    ").join(\n",
    "    test_person_1_feats_1, how=\"left\", on=\"case_id\"\n",
    ").join(\n",
    "    test_person_1_feats_2, how=\"left\", on=\"case_id\"\n",
    ").join(\n",
    "    test_credit_bureau_b_2_feats, how=\"left\", on=\"case_id\"\n",
    ")"
   ]
  },
  {
   "cell_type": "code",
   "execution_count": 9,
   "id": "9c024248",
   "metadata": {
    "execution": {
     "iopub.execute_input": "2024-03-26T20:19:08.865502Z",
     "iopub.status.busy": "2024-03-26T20:19:08.864699Z",
     "iopub.status.idle": "2024-03-26T20:19:11.324491Z",
     "shell.execute_reply": "2024-03-26T20:19:11.323417Z"
    },
    "papermill": {
     "duration": 2.473891,
     "end_time": "2024-03-26T20:19:11.327463",
     "exception": false,
     "start_time": "2024-03-26T20:19:08.853572",
     "status": "completed"
    },
    "tags": []
   },
   "outputs": [
    {
     "name": "stdout",
     "output_type": "stream",
     "text": [
      "['avgoutstandbalancel6m_4187114A', 'currdebt_22A', 'downpmt_116A', 'lastrejectcredamount_222A', 'lastrejectreason_759M', 'maxoutstandbalancel12m_4187113A', 'totaldebt_9A', 'totinstallast1m_4525188A', 'education_88M']\n"
     ]
    }
   ],
   "source": [
    "columns_to_use = ['avgoutstandbalancel6m_4187114A', 'currdebt_22A', 'downpmt_116A', \n",
    "           'lastrejectcredamount_222A', 'lastrejectreason_759M',  'maxannuity_159A'\n",
    "            'maxdebt4_972A',  'maxoutstandbalancel12m_4187113A',  'totaldebt_9A', \n",
    "            'totinstallast1m_4525188A', 'education_88M','case_id',\"WEEK_NUM\", \"target\"]\n",
    "for c in data.columns:\n",
    "    if c in columns_to_use:\n",
    "        pass\n",
    "    else:\n",
    "        data = data.drop(columns=c)\n",
    "\n",
    "\n",
    "case_ids = data[\"case_id\"].unique().shuffle(seed=1)\n",
    "case_ids_train, case_ids_test = train_test_split(case_ids, train_size=0.6, random_state=1)\n",
    "case_ids_valid, case_ids_test = train_test_split(case_ids_test, train_size=0.5, random_state=1)\n",
    "\n",
    "cols_pred = []\n",
    "for col in data.columns:\n",
    "    if col[-1].isupper() and col[:-1].islower():\n",
    "        cols_pred.append(col)\n",
    "\n",
    "print(cols_pred)\n",
    "\n",
    "\n",
    "\n",
    "def from_polars_to_pandas(case_ids: pl.DataFrame) -> pl.DataFrame:\n",
    "    return (\n",
    "        data.filter(pl.col(\"case_id\").is_in(case_ids))[[\"case_id\", \"WEEK_NUM\", \"target\"]].to_pandas(),\n",
    "        data.filter(pl.col(\"case_id\").is_in(case_ids))[cols_pred].to_pandas(),\n",
    "        data.filter(pl.col(\"case_id\").is_in(case_ids))[\"target\"].to_pandas()\n",
    "    )\n",
    "\n",
    "base_train, X_train, y_train = from_polars_to_pandas(case_ids_train)\n",
    "base_valid, X_valid, y_valid = from_polars_to_pandas(case_ids_valid)\n",
    "base_test, X_test, y_test = from_polars_to_pandas(case_ids_test)\n",
    "\n",
    "for df in [X_train, X_valid, X_test]:\n",
    "    df = convert_strings(df)"
   ]
  },
  {
   "cell_type": "code",
   "execution_count": 10,
   "id": "d2414ce5",
   "metadata": {
    "execution": {
     "iopub.execute_input": "2024-03-26T20:19:11.348857Z",
     "iopub.status.busy": "2024-03-26T20:19:11.348416Z",
     "iopub.status.idle": "2024-03-26T20:19:11.356996Z",
     "shell.execute_reply": "2024-03-26T20:19:11.355917Z"
    },
    "papermill": {
     "duration": 0.022107,
     "end_time": "2024-03-26T20:19:11.359407",
     "exception": false,
     "start_time": "2024-03-26T20:19:11.337300",
     "status": "completed"
    },
    "tags": []
   },
   "outputs": [
    {
     "data": {
      "text/plain": [
       "avgoutstandbalancel6m_4187114A      float64\n",
       "currdebt_22A                        float64\n",
       "downpmt_116A                        float64\n",
       "lastrejectcredamount_222A           float64\n",
       "lastrejectreason_759M              category\n",
       "maxoutstandbalancel12m_4187113A     float64\n",
       "totaldebt_9A                        float64\n",
       "totinstallast1m_4525188A            float64\n",
       "education_88M                      category\n",
       "dtype: object"
      ]
     },
     "execution_count": 10,
     "metadata": {},
     "output_type": "execute_result"
    }
   ],
   "source": [
    "X_train.dtypes\n",
    "#pd.set_option('display.max_columns', None)\n",
    "#X_train.head()\n"
   ]
  },
  {
   "cell_type": "code",
   "execution_count": 11,
   "id": "1fcac2af",
   "metadata": {
    "execution": {
     "iopub.execute_input": "2024-03-26T20:19:11.380845Z",
     "iopub.status.busy": "2024-03-26T20:19:11.380384Z",
     "iopub.status.idle": "2024-03-26T20:19:11.386862Z",
     "shell.execute_reply": "2024-03-26T20:19:11.385370Z"
    },
    "papermill": {
     "duration": 0.020073,
     "end_time": "2024-03-26T20:19:11.389268",
     "exception": false,
     "start_time": "2024-03-26T20:19:11.369195",
     "status": "completed"
    },
    "tags": []
   },
   "outputs": [
    {
     "name": "stdout",
     "output_type": "stream",
     "text": [
      "Train: (915995, 9)\n",
      "Valid: (305332, 9)\n",
      "Test: (305332, 9)\n"
     ]
    }
   ],
   "source": [
    "print(f\"Train: {X_train.shape}\")\n",
    "print(f\"Valid: {X_valid.shape}\")\n",
    "print(f\"Test: {X_test.shape}\")"
   ]
  },
  {
   "cell_type": "code",
   "execution_count": 12,
   "id": "2646f5fd",
   "metadata": {
    "execution": {
     "iopub.execute_input": "2024-03-26T20:19:11.411505Z",
     "iopub.status.busy": "2024-03-26T20:19:11.411077Z",
     "iopub.status.idle": "2024-03-26T20:19:11.589825Z",
     "shell.execute_reply": "2024-03-26T20:19:11.588564Z"
    },
    "papermill": {
     "duration": 0.193423,
     "end_time": "2024-03-26T20:19:11.592619",
     "exception": false,
     "start_time": "2024-03-26T20:19:11.399196",
     "status": "completed"
    },
    "tags": []
   },
   "outputs": [],
   "source": [
    "from sklearn.ensemble import RandomForestClassifier\n",
    "from sklearn.impute import SimpleImputer"
   ]
  },
  {
   "cell_type": "code",
   "execution_count": 13,
   "id": "4f5f23ee",
   "metadata": {
    "execution": {
     "iopub.execute_input": "2024-03-26T20:19:11.615260Z",
     "iopub.status.busy": "2024-03-26T20:19:11.614007Z",
     "iopub.status.idle": "2024-03-26T20:19:11.681525Z",
     "shell.execute_reply": "2024-03-26T20:19:11.680309Z"
    },
    "papermill": {
     "duration": 0.081736,
     "end_time": "2024-03-26T20:19:11.684435",
     "exception": false,
     "start_time": "2024-03-26T20:19:11.602699",
     "status": "completed"
    },
    "tags": []
   },
   "outputs": [],
   "source": [
    "X_train_float = X_train.select_dtypes(\"float64\")\n",
    "X_test_float = X_test.select_dtypes(\"float64\")\n",
    "\n",
    "X_train_float_s = X_train_float.iloc[:100000]\n",
    "y_train_s = y_train.iloc[:100000]\n",
    "X_test_float_s = X_test_float.iloc[:30000]\n",
    "y_test_s = y_test.iloc[:30000]\n",
    "\n",
    "imp = SimpleImputer(missing_values=np.nan, strategy='mean')\n",
    "imp = imp.fit(X_train_float_s)\n",
    "\n",
    "X_train_imp = imp.transform(X_train_float_s)\n",
    "X_test_imp = imp.transform(X_test_float_s)"
   ]
  },
  {
   "cell_type": "code",
   "execution_count": 14,
   "id": "ad724555",
   "metadata": {
    "execution": {
     "iopub.execute_input": "2024-03-26T20:19:11.706183Z",
     "iopub.status.busy": "2024-03-26T20:19:11.705699Z",
     "iopub.status.idle": "2024-03-26T20:19:34.475360Z",
     "shell.execute_reply": "2024-03-26T20:19:34.474103Z"
    },
    "papermill": {
     "duration": 22.78388,
     "end_time": "2024-03-26T20:19:34.478173",
     "exception": false,
     "start_time": "2024-03-26T20:19:11.694293",
     "status": "completed"
    },
    "tags": []
   },
   "outputs": [
    {
     "data": {
      "text/plain": [
       "0.9614333333333334"
      ]
     },
     "execution_count": 14,
     "metadata": {},
     "output_type": "execute_result"
    }
   ],
   "source": [
    "rfc = RandomForestClassifier()\n",
    "rfc.fit(X_train_imp, y_train_s)\n",
    "rfc.score(X_test_imp, y_test_s)"
   ]
  },
  {
   "cell_type": "code",
   "execution_count": 15,
   "id": "c083d580",
   "metadata": {
    "execution": {
     "iopub.execute_input": "2024-03-26T20:19:34.500583Z",
     "iopub.status.busy": "2024-03-26T20:19:34.500182Z",
     "iopub.status.idle": "2024-03-26T20:19:34.623317Z",
     "shell.execute_reply": "2024-03-26T20:19:34.622012Z"
    },
    "papermill": {
     "duration": 0.138198,
     "end_time": "2024-03-26T20:19:34.626568",
     "exception": false,
     "start_time": "2024-03-26T20:19:34.488370",
     "status": "completed"
    },
    "tags": []
   },
   "outputs": [],
   "source": [
    "from sklearn.preprocessing import OneHotEncoder\n",
    "\n",
    "m = 5000\n",
    "\n",
    "demo = X_train.head(m)\n",
    "y = y_train.head(m)\n",
    "\n",
    "encoder = OneHotEncoder()\n",
    "encoder.fit(demo)\n",
    "transformed = encoder.transform(demo)\n",
    "ohe_df = pd.DataFrame(transformed.toarray())\n",
    "X = ohe_df\n",
    "\n",
    "\n",
    "n = 4428\n",
    "\n",
    "demot = X_test.head(n)\n",
    "yt = y_test.head(n)\n",
    "\n",
    "encoder = OneHotEncoder()\n",
    "encoder.fit(demot)\n",
    "transformed = encoder.transform(demot)\n",
    "ohe_dft = pd.DataFrame(transformed.toarray())\n",
    "Xt = ohe_dft\n",
    "\n"
   ]
  },
  {
   "cell_type": "code",
   "execution_count": 16,
   "id": "9af3bd63",
   "metadata": {
    "execution": {
     "iopub.execute_input": "2024-03-26T20:19:34.649833Z",
     "iopub.status.busy": "2024-03-26T20:19:34.648723Z",
     "iopub.status.idle": "2024-03-26T20:19:34.655505Z",
     "shell.execute_reply": "2024-03-26T20:19:34.654229Z"
    },
    "papermill": {
     "duration": 0.021323,
     "end_time": "2024-03-26T20:19:34.658472",
     "exception": false,
     "start_time": "2024-03-26T20:19:34.637149",
     "status": "completed"
    },
    "tags": []
   },
   "outputs": [
    {
     "name": "stdout",
     "output_type": "stream",
     "text": [
      "Train: (5000, 744)\n",
      "Test: (4428, 744)\n"
     ]
    }
   ],
   "source": [
    "print(f\"Train: {X.shape}\")\n",
    "print(f\"Test: {Xt.shape}\")"
   ]
  },
  {
   "cell_type": "code",
   "execution_count": 17,
   "id": "3f55a54c",
   "metadata": {
    "execution": {
     "iopub.execute_input": "2024-03-26T20:19:34.681768Z",
     "iopub.status.busy": "2024-03-26T20:19:34.681346Z",
     "iopub.status.idle": "2024-03-26T20:19:37.383534Z",
     "shell.execute_reply": "2024-03-26T20:19:37.382385Z"
    },
    "papermill": {
     "duration": 2.717058,
     "end_time": "2024-03-26T20:19:37.386120",
     "exception": false,
     "start_time": "2024-03-26T20:19:34.669062",
     "status": "completed"
    },
    "tags": []
   },
   "outputs": [
    {
     "data": {
      "text/plain": [
       "0.9695121951219512"
      ]
     },
     "execution_count": 17,
     "metadata": {},
     "output_type": "execute_result"
    }
   ],
   "source": [
    "rfcOhe = RandomForestClassifier()\n",
    "rfcOhe.fit(X, y)\n",
    "rfcOhe.score(Xt, yt)"
   ]
  },
  {
   "cell_type": "markdown",
   "id": "520d21ac",
   "metadata": {
    "papermill": {
     "duration": 0.009973,
     "end_time": "2024-03-26T20:19:37.406386",
     "exception": false,
     "start_time": "2024-03-26T20:19:37.396413",
     "status": "completed"
    },
    "tags": []
   },
   "source": [
    "## Training LightGBM\n",
    "\n",
    "Minimal example of LightGBM training is shown below."
   ]
  },
  {
   "cell_type": "code",
   "execution_count": 18,
   "id": "3ed5fe95",
   "metadata": {
    "execution": {
     "iopub.execute_input": "2024-03-26T20:19:37.430185Z",
     "iopub.status.busy": "2024-03-26T20:19:37.428770Z",
     "iopub.status.idle": "2024-03-26T20:19:44.807863Z",
     "shell.execute_reply": "2024-03-26T20:19:44.806219Z"
    },
    "papermill": {
     "duration": 7.393885,
     "end_time": "2024-03-26T20:19:44.810825",
     "exception": false,
     "start_time": "2024-03-26T20:19:37.416940",
     "status": "completed"
    },
    "tags": []
   },
   "outputs": [
    {
     "name": "stderr",
     "output_type": "stream",
     "text": [
      "/opt/conda/lib/python3.10/site-packages/lightgbm/engine.py:177: UserWarning: Found `n_estimators` in params. Will use it instead of argument\n",
      "  _log_warning(f\"Found `{alias}` in params. Will use it instead of argument\")\n"
     ]
    },
    {
     "name": "stdout",
     "output_type": "stream",
     "text": [
      "Training until validation scores don't improve for 10 rounds\n",
      "[50]\tvalid_0's auc: 0.634615\n",
      "[100]\tvalid_0's auc: 0.639011\n",
      "Early stopping, best iteration is:\n",
      "[96]\tvalid_0's auc: 0.639089\n"
     ]
    }
   ],
   "source": [
    "lgb_train = lgb.Dataset(X_train, label=y_train)\n",
    "lgb_valid = lgb.Dataset(X_valid, label=y_valid, reference=lgb_train)\n",
    "\n",
    "params = {\n",
    "    \"boosting_type\": \"gbdt\",\n",
    "    \"objective\": \"binary\",\n",
    "    \"metric\": \"auc\",\n",
    "    \"max_depth\": 3,\n",
    "    \"num_leaves\": 31,\n",
    "    \"learning_rate\": 0.05,\n",
    "    \"feature_fraction\": 0.9,\n",
    "    \"bagging_fraction\": 0.8,\n",
    "    \"bagging_freq\": 5,\n",
    "    \"n_estimators\": 1000,\n",
    "    \"verbose\": -1,\n",
    "}\n",
    "\n",
    "gbm = lgb.train(\n",
    "    params,\n",
    "    lgb_train,\n",
    "    valid_sets=lgb_valid,\n",
    "    callbacks=[lgb.log_evaluation(50), lgb.early_stopping(10)]\n",
    ")"
   ]
  },
  {
   "cell_type": "markdown",
   "id": "959fb556",
   "metadata": {
    "papermill": {
     "duration": 0.010467,
     "end_time": "2024-03-26T20:19:44.832176",
     "exception": false,
     "start_time": "2024-03-26T20:19:44.821709",
     "status": "completed"
    },
    "tags": []
   },
   "source": [
    "Evaluation with AUC and then comparison with the stability metric is shown below."
   ]
  },
  {
   "cell_type": "code",
   "execution_count": 19,
   "id": "60b30948",
   "metadata": {
    "execution": {
     "iopub.execute_input": "2024-03-26T20:19:44.855594Z",
     "iopub.status.busy": "2024-03-26T20:19:44.855130Z",
     "iopub.status.idle": "2024-03-26T20:19:47.449427Z",
     "shell.execute_reply": "2024-03-26T20:19:47.447728Z"
    },
    "papermill": {
     "duration": 2.609389,
     "end_time": "2024-03-26T20:19:47.452323",
     "exception": false,
     "start_time": "2024-03-26T20:19:44.842934",
     "status": "completed"
    },
    "tags": []
   },
   "outputs": [
    {
     "name": "stdout",
     "output_type": "stream",
     "text": [
      "The AUC score on the train set is: 0.6390745017873503\n",
      "The AUC score on the valid set is: 0.6390889348803597\n",
      "The AUC score on the test set is: 0.6321494537832227\n"
     ]
    }
   ],
   "source": [
    "for base, X in [(base_train, X_train), (base_valid, X_valid), (base_test, X_test)]:\n",
    "    y_pred = gbm.predict(X, num_iteration=gbm.best_iteration)\n",
    "    base[\"score\"] = y_pred\n",
    "\n",
    "print(f'The AUC score on the train set is: {roc_auc_score(base_train[\"target\"], base_train[\"score\"])}') \n",
    "print(f'The AUC score on the valid set is: {roc_auc_score(base_valid[\"target\"], base_valid[\"score\"])}') \n",
    "print(f'The AUC score on the test set is: {roc_auc_score(base_test[\"target\"], base_test[\"score\"])}')  "
   ]
  },
  {
   "cell_type": "code",
   "execution_count": 20,
   "id": "378e8dbd",
   "metadata": {
    "execution": {
     "iopub.execute_input": "2024-03-26T20:19:47.476724Z",
     "iopub.status.busy": "2024-03-26T20:19:47.475579Z",
     "iopub.status.idle": "2024-03-26T20:19:48.583843Z",
     "shell.execute_reply": "2024-03-26T20:19:48.582601Z"
    },
    "papermill": {
     "duration": 1.123127,
     "end_time": "2024-03-26T20:19:48.586411",
     "exception": false,
     "start_time": "2024-03-26T20:19:47.463284",
     "status": "completed"
    },
    "tags": []
   },
   "outputs": [
    {
     "name": "stdout",
     "output_type": "stream",
     "text": [
      "The stability score on the train set is: 0.2468943157761294\n",
      "The stability score on the valid set is: 0.23477251793975426\n",
      "The stability score on the test set is: 0.22590074397190377\n"
     ]
    }
   ],
   "source": [
    "def gini_stability(base, w_fallingrate=88.0, w_resstd=-0.5):\n",
    "    gini_in_time = base.loc[:, [\"WEEK_NUM\", \"target\", \"score\"]]\\\n",
    "        .sort_values(\"WEEK_NUM\")\\\n",
    "        .groupby(\"WEEK_NUM\")[[\"target\", \"score\"]]\\\n",
    "        .apply(lambda x: 2*roc_auc_score(x[\"target\"], x[\"score\"])-1).tolist()\n",
    "    \n",
    "    x = np.arange(len(gini_in_time))\n",
    "    y = gini_in_time\n",
    "    a, b = np.polyfit(x, y, 1)\n",
    "    y_hat = a*x + b\n",
    "    residuals = y - y_hat\n",
    "    res_std = np.std(residuals)\n",
    "    avg_gini = np.mean(gini_in_time)\n",
    "    return avg_gini + w_fallingrate * min(0, a) + w_resstd * res_std\n",
    "\n",
    "stability_score_train = gini_stability(base_train)\n",
    "stability_score_valid = gini_stability(base_valid)\n",
    "stability_score_test = gini_stability(base_test)\n",
    "\n",
    "print(f'The stability score on the train set is: {stability_score_train}') \n",
    "print(f'The stability score on the valid set is: {stability_score_valid}') \n",
    "print(f'The stability score on the test set is: {stability_score_test}')  "
   ]
  },
  {
   "cell_type": "markdown",
   "id": "a84f4656",
   "metadata": {
    "papermill": {
     "duration": 0.010604,
     "end_time": "2024-03-26T20:19:48.607985",
     "exception": false,
     "start_time": "2024-03-26T20:19:48.597381",
     "status": "completed"
    },
    "tags": []
   },
   "source": [
    "## Submission\n",
    "\n",
    "Scoring the submission dataset is below, we need to take care of new categories. Then we save the score as a last step. "
   ]
  },
  {
   "cell_type": "code",
   "execution_count": 21,
   "id": "e4e3556b",
   "metadata": {
    "execution": {
     "iopub.execute_input": "2024-03-26T20:19:48.631848Z",
     "iopub.status.busy": "2024-03-26T20:19:48.631380Z",
     "iopub.status.idle": "2024-03-26T20:19:48.661859Z",
     "shell.execute_reply": "2024-03-26T20:19:48.660883Z"
    },
    "papermill": {
     "duration": 0.045197,
     "end_time": "2024-03-26T20:19:48.664428",
     "exception": false,
     "start_time": "2024-03-26T20:19:48.619231",
     "status": "completed"
    },
    "tags": []
   },
   "outputs": [],
   "source": [
    "X_submission = data_submission[cols_pred].to_pandas()\n",
    "X_submission = convert_strings(X_submission)\n",
    "categorical_cols = X_train.select_dtypes(include=['category']).columns\n",
    "\n",
    "for col in categorical_cols:\n",
    "    train_categories = set(X_train[col].cat.categories)\n",
    "    submission_categories = set(X_submission[col].cat.categories)\n",
    "    new_categories = submission_categories - train_categories\n",
    "    X_submission.loc[X_submission[col].isin(new_categories), col] = \"Unknown\"\n",
    "    new_dtype = pd.CategoricalDtype(categories=train_categories, ordered=True)\n",
    "    X_train[col] = X_train[col].astype(new_dtype)\n",
    "    X_submission[col] = X_submission[col].astype(new_dtype)\n",
    "\n",
    "y_submission_pred = gbm.predict(X_submission, num_iteration=gbm.best_iteration)"
   ]
  },
  {
   "cell_type": "code",
   "execution_count": 22,
   "id": "d8a01296",
   "metadata": {
    "execution": {
     "iopub.execute_input": "2024-03-26T20:19:48.688540Z",
     "iopub.status.busy": "2024-03-26T20:19:48.687808Z",
     "iopub.status.idle": "2024-03-26T20:19:48.699380Z",
     "shell.execute_reply": "2024-03-26T20:19:48.698412Z"
    },
    "papermill": {
     "duration": 0.026734,
     "end_time": "2024-03-26T20:19:48.702069",
     "exception": false,
     "start_time": "2024-03-26T20:19:48.675335",
     "status": "completed"
    },
    "tags": []
   },
   "outputs": [],
   "source": [
    "submission = pd.DataFrame({\n",
    "    \"case_id\": data_submission[\"case_id\"].to_numpy(),\n",
    "    \"score\": y_submission_pred\n",
    "}).set_index('case_id')\n",
    "submission.to_csv(\"./submission.csv\")"
   ]
  },
  {
   "cell_type": "markdown",
   "id": "a8f3400f",
   "metadata": {
    "papermill": {
     "duration": 0.010745,
     "end_time": "2024-03-26T20:19:48.724090",
     "exception": false,
     "start_time": "2024-03-26T20:19:48.713345",
     "status": "completed"
    },
    "tags": []
   },
   "source": [
    "Best of luck, and most importantly, enjoy the process of learning and discovery! \n",
    "\n",
    "<img src=\"https://i.imgur.com/obVWIBh.png\" alt=\"Image\" width=\"700\"/>"
   ]
  }
 ],
 "metadata": {
  "kaggle": {
   "accelerator": "none",
   "dataSources": [
    {
     "databundleVersionId": 7921029,
     "sourceId": 50160,
     "sourceType": "competition"
    }
   ],
   "dockerImageVersionId": 30635,
   "isGpuEnabled": false,
   "isInternetEnabled": false,
   "language": "python",
   "sourceType": "notebook"
  },
  "kernelspec": {
   "display_name": "Python 3",
   "language": "python",
   "name": "python3"
  },
  "language_info": {
   "codemirror_mode": {
    "name": "ipython",
    "version": 3
   },
   "file_extension": ".py",
   "mimetype": "text/x-python",
   "name": "python",
   "nbconvert_exporter": "python",
   "pygments_lexer": "ipython3",
   "version": "3.10.12"
  },
  "papermill": {
   "default_parameters": {},
   "duration": 73.067115,
   "end_time": "2024-03-26T20:19:49.958272",
   "environment_variables": {},
   "exception": null,
   "input_path": "__notebook__.ipynb",
   "output_path": "__notebook__.ipynb",
   "parameters": {},
   "start_time": "2024-03-26T20:18:36.891157",
   "version": "2.4.0"
  }
 },
 "nbformat": 4,
 "nbformat_minor": 5
}
