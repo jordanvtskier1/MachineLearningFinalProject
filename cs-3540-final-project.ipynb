{
 "cells": [
  {
   "cell_type": "markdown",
   "id": "85ce8708",
   "metadata": {
    "_cell_guid": "b1076dfc-b9ad-4769-8c92-a6c4dae69d19",
    "_uuid": "8f2839f25d086af736a60e9eeb907d3b93b6e0e5",
    "papermill": {
     "duration": 0.004848,
     "end_time": "2024-03-19T20:05:56.752951",
     "exception": false,
     "start_time": "2024-03-19T20:05:56.748103",
     "status": "completed"
    },
    "tags": []
   },
   "source": [
    "# Example Notebook\n",
    "\n",
    "Welcome to the example notebook for the Home Credit Kaggle competition. The goal of this competition is to determine how likely a customer is going to default on an issued loan. The main difference between the [first](https://www.kaggle.com/c/home-credit-default-risk) and this competition is that now your submission will be scored with a custom metric that will take into account how well the model performs in future. A decline in performance will be penalized. The goal is to create a model that is stable and performs well in the future.\n",
    "\n",
    "In this notebook you will see how to:\n",
    "* Load the data\n",
    "* Join tables with Polars - a DataFrame library implemented in Rust language, designed to be blazingy fast and memory efficient.  \n",
    "* Create simple aggregation features\n",
    "* Train a LightGBM model\n",
    "* Create a submission table\n",
    "\n",
    "## Load the data"
   ]
  },
  {
   "cell_type": "code",
   "execution_count": 1,
   "id": "a83be0d3",
   "metadata": {
    "execution": {
     "iopub.execute_input": "2024-03-19T20:05:56.763258Z",
     "iopub.status.busy": "2024-03-19T20:05:56.762931Z",
     "iopub.status.idle": "2024-03-19T20:06:01.057847Z",
     "shell.execute_reply": "2024-03-19T20:06:01.056605Z"
    },
    "papermill": {
     "duration": 4.302847,
     "end_time": "2024-03-19T20:06:01.060226",
     "exception": false,
     "start_time": "2024-03-19T20:05:56.757379",
     "status": "completed"
    },
    "tags": []
   },
   "outputs": [],
   "source": [
    "import polars as pl\n",
    "import numpy as np\n",
    "import pandas as pd\n",
    "import lightgbm as lgb\n",
    "from sklearn.model_selection import train_test_split\n",
    "from sklearn.metrics import roc_auc_score \n",
    "\n",
    "dataPath = \"/kaggle/input/home-credit-credit-risk-model-stability/\""
   ]
  },
  {
   "cell_type": "code",
   "execution_count": 2,
   "id": "220fc95a",
   "metadata": {
    "execution": {
     "iopub.execute_input": "2024-03-19T20:06:01.070748Z",
     "iopub.status.busy": "2024-03-19T20:06:01.070375Z",
     "iopub.status.idle": "2024-03-19T20:06:01.078243Z",
     "shell.execute_reply": "2024-03-19T20:06:01.076939Z"
    },
    "papermill": {
     "duration": 0.015543,
     "end_time": "2024-03-19T20:06:01.080303",
     "exception": false,
     "start_time": "2024-03-19T20:06:01.064760",
     "status": "completed"
    },
    "tags": []
   },
   "outputs": [],
   "source": [
    "def set_table_dtypes(df: pl.DataFrame) -> pl.DataFrame:\n",
    "    # implement here all desired dtypes for tables\n",
    "    # the following is just an example\n",
    "    for col in df.columns:\n",
    "        # last letter of column name will help you determine the type\n",
    "        if col[-1] in (\"P\", \"A\"):\n",
    "            df = df.with_columns(pl.col(col).cast(pl.Float64).alias(col))\n",
    "\n",
    "    return df\n",
    "\n",
    "def convert_strings(df: pd.DataFrame) -> pd.DataFrame:\n",
    "    for col in df.columns:  \n",
    "        if df[col].dtype.name in ['object', 'string']:\n",
    "            df[col] = df[col].astype(\"string\").astype('category')\n",
    "            current_categories = df[col].cat.categories\n",
    "            new_categories = current_categories.to_list() + [\"Unknown\"]\n",
    "            new_dtype = pd.CategoricalDtype(categories=new_categories, ordered=True)\n",
    "            df[col] = df[col].astype(new_dtype)\n",
    "    return df"
   ]
  },
  {
   "cell_type": "code",
   "execution_count": 3,
   "id": "2dc5ed00",
   "metadata": {
    "execution": {
     "iopub.execute_input": "2024-03-19T20:06:01.090883Z",
     "iopub.status.busy": "2024-03-19T20:06:01.090467Z",
     "iopub.status.idle": "2024-03-19T20:06:14.361719Z",
     "shell.execute_reply": "2024-03-19T20:06:14.361044Z"
    },
    "papermill": {
     "duration": 13.27945,
     "end_time": "2024-03-19T20:06:14.364256",
     "exception": false,
     "start_time": "2024-03-19T20:06:01.084806",
     "status": "completed"
    },
    "tags": []
   },
   "outputs": [],
   "source": [
    "train_basetable = pl.read_csv(dataPath + \"csv_files/train/train_base.csv\")\n",
    "train_static = pl.concat(\n",
    "    [\n",
    "        pl.read_csv(dataPath + \"csv_files/train/train_static_0_0.csv\").pipe(set_table_dtypes),\n",
    "        pl.read_csv(dataPath + \"csv_files/train/train_static_0_1.csv\").pipe(set_table_dtypes),\n",
    "    ],\n",
    "    how=\"vertical_relaxed\",\n",
    ")\n",
    "train_static_cb = pl.read_csv(dataPath + \"csv_files/train/train_static_cb_0.csv\").pipe(set_table_dtypes)\n",
    "train_person_1 = pl.read_csv(dataPath + \"csv_files/train/train_person_1.csv\").pipe(set_table_dtypes) \n",
    "train_credit_bureau_b_2 = pl.read_csv(dataPath + \"csv_files/train/train_credit_bureau_b_2.csv\").pipe(set_table_dtypes) "
   ]
  },
  {
   "cell_type": "code",
   "execution_count": 4,
   "id": "c7eedabf",
   "metadata": {
    "execution": {
     "iopub.execute_input": "2024-03-19T20:06:14.375186Z",
     "iopub.status.busy": "2024-03-19T20:06:14.374814Z",
     "iopub.status.idle": "2024-03-19T20:06:14.467436Z",
     "shell.execute_reply": "2024-03-19T20:06:14.466147Z"
    },
    "papermill": {
     "duration": 0.10054,
     "end_time": "2024-03-19T20:06:14.469767",
     "exception": false,
     "start_time": "2024-03-19T20:06:14.369227",
     "status": "completed"
    },
    "tags": []
   },
   "outputs": [],
   "source": [
    "test_basetable = pl.read_csv(dataPath + \"csv_files/test/test_base.csv\")\n",
    "test_static = pl.concat(\n",
    "    [\n",
    "        pl.read_csv(dataPath + \"csv_files/test/test_static_0_0.csv\").pipe(set_table_dtypes),\n",
    "        pl.read_csv(dataPath + \"csv_files/test/test_static_0_1.csv\").pipe(set_table_dtypes),\n",
    "        pl.read_csv(dataPath + \"csv_files/test/test_static_0_2.csv\").pipe(set_table_dtypes),\n",
    "    ],\n",
    "    how=\"vertical_relaxed\",\n",
    ")\n",
    "test_static_cb = pl.read_csv(dataPath + \"csv_files/test/test_static_cb_0.csv\").pipe(set_table_dtypes)\n",
    "test_person_1 = pl.read_csv(dataPath + \"csv_files/test/test_person_1.csv\").pipe(set_table_dtypes) \n",
    "test_credit_bureau_b_2 = pl.read_csv(dataPath + \"csv_files/test/test_credit_bureau_b_2.csv\").pipe(set_table_dtypes) "
   ]
  },
  {
   "cell_type": "markdown",
   "id": "1c6a74cf",
   "metadata": {
    "papermill": {
     "duration": 0.004041,
     "end_time": "2024-03-19T20:06:14.478329",
     "exception": false,
     "start_time": "2024-03-19T20:06:14.474288",
     "status": "completed"
    },
    "tags": []
   },
   "source": [
    "## Feature engineering\n",
    "\n",
    "In this part, we can see a simple example of joining tables via `case_id`. Here the loading and joining is done with polars library. Polars library is blazingly fast and has much smaller memory footprint than pandas. "
   ]
  },
  {
   "cell_type": "code",
   "execution_count": 5,
   "id": "d6a82658",
   "metadata": {
    "execution": {
     "iopub.execute_input": "2024-03-19T20:06:14.488545Z",
     "iopub.status.busy": "2024-03-19T20:06:14.488220Z",
     "iopub.status.idle": "2024-03-19T20:06:15.718093Z",
     "shell.execute_reply": "2024-03-19T20:06:15.717090Z"
    },
    "papermill": {
     "duration": 1.237845,
     "end_time": "2024-03-19T20:06:15.720545",
     "exception": false,
     "start_time": "2024-03-19T20:06:14.482700",
     "status": "completed"
    },
    "tags": []
   },
   "outputs": [
    {
     "name": "stdout",
     "output_type": "stream",
     "text": [
      "['amtinstpaidbefduel24m_4187115A', 'annuity_780A', 'annuitynextmonth_57A', 'avginstallast24m_3658937A', 'avglnamtstart24m_4525187A', 'avgoutstandbalancel6m_4187114A', 'avgpmtlast12m_4525200A', 'credamount_770A', 'currdebt_22A', 'currdebtcredtyperange_828A', 'disbursedcredamount_1113A', 'downpmt_116A', 'inittransactionamount_650A', 'lastapprcommoditycat_1041M', 'lastapprcommoditytypec_5251766M', 'lastapprcredamount_781A', 'lastcancelreason_561M', 'lastotherinc_902A', 'lastotherlnsexpense_631A', 'lastrejectcommoditycat_161M', 'lastrejectcommodtypec_5251769M', 'lastrejectcredamount_222A', 'lastrejectreason_759M', 'lastrejectreasonclient_4145040M', 'maininc_215A', 'maxannuity_159A', 'maxannuity_4075009A', 'maxdebt4_972A', 'maxinstallast24m_3658928A', 'maxlnamtstart6m_4525199A', 'maxoutstandbalancel12m_4187113A', 'maxpmtlast3m_4525190A', 'previouscontdistrict_112M', 'price_1097A', 'sumoutstandtotal_3546847A', 'sumoutstandtotalest_4493215A', 'totaldebt_9A', 'totalsettled_863A', 'totinstallast1m_4525188A']\n",
      "['description_5085714M', 'education_1103M', 'education_88M', 'maritalst_385M', 'maritalst_893M', 'pmtaverage_3A', 'pmtaverage_4527227A', 'pmtaverage_4955615A', 'pmtssum_45A']\n"
     ]
    }
   ],
   "source": [
    "# We need to use aggregation functions in tables with depth > 1, so tables that contain num_group1 column or \n",
    "# also num_group2 column.\n",
    "train_person_1_feats_1 = train_person_1.group_by(\"case_id\").agg(\n",
    "    pl.col(\"mainoccupationinc_384A\").max().alias(\"mainoccupationinc_384A_max\"),\n",
    "    (pl.col(\"incometype_1044T\") == \"SELFEMPLOYED\").max().alias(\"mainoccupationinc_384A_any_selfemployed\")\n",
    ")\n",
    "\n",
    "# Here num_group1=0 has special meaning, it is the person who applied for the loan.\n",
    "train_person_1_feats_2 = train_person_1.select([\"case_id\", \"num_group1\", \"housetype_905L\"]).filter(\n",
    "    pl.col(\"num_group1\") == 0\n",
    ").drop(\"num_group1\").rename({\"housetype_905L\": \"person_housetype\"})\n",
    "\n",
    "# Here we have num_goup1 and num_group2, so we need to aggregate again.\n",
    "train_credit_bureau_b_2_feats = train_credit_bureau_b_2.group_by(\"case_id\").agg(\n",
    "    pl.col(\"pmts_pmtsoverdue_635A\").max().alias(\"pmts_pmtsoverdue_635A_max\"),\n",
    "    (pl.col(\"pmts_dpdvalue_108P\") > 31).max().alias(\"pmts_dpdvalue_108P_over31\")\n",
    ")\n",
    "\n",
    "# We will process in this examples only A-type and M-type columns, so we need to select them.\n",
    "selected_static_cols = []\n",
    "for col in train_static.columns:\n",
    "    if col[-1] in (\"A\", \"M\"):\n",
    "        selected_static_cols.append(col)\n",
    "print(selected_static_cols)\n",
    "\n",
    "selected_static_cb_cols = []\n",
    "for col in train_static_cb.columns:\n",
    "    if col[-1] in (\"A\", \"M\"):\n",
    "        selected_static_cb_cols.append(col)\n",
    "print(selected_static_cb_cols)\n",
    "\n",
    "# Join all tables together.\n",
    "data = train_basetable.join(\n",
    "    train_static.select([\"case_id\"]+selected_static_cols), how=\"left\", on=\"case_id\"\n",
    ").join(\n",
    "    train_static_cb.select([\"case_id\"]+selected_static_cb_cols), how=\"left\", on=\"case_id\"\n",
    ").join(\n",
    "    train_person_1_feats_1, how=\"left\", on=\"case_id\"\n",
    ").join(\n",
    "    train_person_1_feats_2, how=\"left\", on=\"case_id\"\n",
    ").join(\n",
    "    train_credit_bureau_b_2_feats, how=\"left\", on=\"case_id\"\n",
    ")"
   ]
  },
  {
   "cell_type": "code",
   "execution_count": 6,
   "id": "14bed6bd",
   "metadata": {
    "execution": {
     "iopub.execute_input": "2024-03-19T20:06:15.731937Z",
     "iopub.status.busy": "2024-03-19T20:06:15.731555Z",
     "iopub.status.idle": "2024-03-19T20:06:15.742761Z",
     "shell.execute_reply": "2024-03-19T20:06:15.741520Z"
    },
    "papermill": {
     "duration": 0.019177,
     "end_time": "2024-03-19T20:06:15.745045",
     "exception": false,
     "start_time": "2024-03-19T20:06:15.725868",
     "status": "completed"
    },
    "tags": []
   },
   "outputs": [],
   "source": [
    "test_person_1_feats_1 = test_person_1.group_by(\"case_id\").agg(\n",
    "    pl.col(\"mainoccupationinc_384A\").max().alias(\"mainoccupationinc_384A_max\"),\n",
    "    (pl.col(\"incometype_1044T\") == \"SELFEMPLOYED\").max().alias(\"mainoccupationinc_384A_any_selfemployed\")\n",
    ")\n",
    "\n",
    "test_person_1_feats_2 = test_person_1.select([\"case_id\", \"num_group1\", \"housetype_905L\"]).filter(\n",
    "    pl.col(\"num_group1\") == 0\n",
    ").drop(\"num_group1\").rename({\"housetype_905L\": \"person_housetype\"})\n",
    "\n",
    "test_credit_bureau_b_2_feats = test_credit_bureau_b_2.group_by(\"case_id\").agg(\n",
    "    pl.col(\"pmts_pmtsoverdue_635A\").max().alias(\"pmts_pmtsoverdue_635A_max\"),\n",
    "    (pl.col(\"pmts_dpdvalue_108P\") > 31).max().alias(\"pmts_dpdvalue_108P_over31\")\n",
    ")\n",
    "\n",
    "data_submission = test_basetable.join(\n",
    "    test_static.select([\"case_id\"]+selected_static_cols), how=\"left\", on=\"case_id\"\n",
    ").join(\n",
    "    test_static_cb.select([\"case_id\"]+selected_static_cb_cols), how=\"left\", on=\"case_id\"\n",
    ").join(\n",
    "    test_person_1_feats_1, how=\"left\", on=\"case_id\"\n",
    ").join(\n",
    "    test_person_1_feats_2, how=\"left\", on=\"case_id\"\n",
    ").join(\n",
    "    test_credit_bureau_b_2_feats, how=\"left\", on=\"case_id\"\n",
    ")"
   ]
  },
  {
   "cell_type": "code",
   "execution_count": 7,
   "id": "7dbc6fe7",
   "metadata": {
    "execution": {
     "iopub.execute_input": "2024-03-19T20:06:15.755981Z",
     "iopub.status.busy": "2024-03-19T20:06:15.755610Z",
     "iopub.status.idle": "2024-03-19T20:06:20.723347Z",
     "shell.execute_reply": "2024-03-19T20:06:20.722304Z"
    },
    "papermill": {
     "duration": 4.975167,
     "end_time": "2024-03-19T20:06:20.725297",
     "exception": false,
     "start_time": "2024-03-19T20:06:15.750130",
     "status": "completed"
    },
    "tags": []
   },
   "outputs": [
    {
     "name": "stdout",
     "output_type": "stream",
     "text": [
      "['amtinstpaidbefduel24m_4187115A', 'annuity_780A', 'annuitynextmonth_57A', 'avginstallast24m_3658937A', 'avglnamtstart24m_4525187A', 'avgoutstandbalancel6m_4187114A', 'avgpmtlast12m_4525200A', 'credamount_770A', 'currdebt_22A', 'currdebtcredtyperange_828A', 'disbursedcredamount_1113A', 'downpmt_116A', 'inittransactionamount_650A', 'lastapprcommoditycat_1041M', 'lastapprcommoditytypec_5251766M', 'lastapprcredamount_781A', 'lastcancelreason_561M', 'lastotherinc_902A', 'lastotherlnsexpense_631A', 'lastrejectcommoditycat_161M', 'lastrejectcommodtypec_5251769M', 'lastrejectcredamount_222A', 'lastrejectreason_759M', 'lastrejectreasonclient_4145040M', 'maininc_215A', 'maxannuity_159A', 'maxannuity_4075009A', 'maxdebt4_972A', 'maxinstallast24m_3658928A', 'maxlnamtstart6m_4525199A', 'maxoutstandbalancel12m_4187113A', 'maxpmtlast3m_4525190A', 'previouscontdistrict_112M', 'price_1097A', 'sumoutstandtotal_3546847A', 'sumoutstandtotalest_4493215A', 'totaldebt_9A', 'totalsettled_863A', 'totinstallast1m_4525188A', 'description_5085714M', 'education_1103M', 'education_88M', 'maritalst_385M', 'maritalst_893M', 'pmtaverage_3A', 'pmtaverage_4527227A', 'pmtaverage_4955615A', 'pmtssum_45A']\n"
     ]
    }
   ],
   "source": [
    "case_ids = data[\"case_id\"].unique().shuffle(seed=1)\n",
    "case_ids_train, case_ids_test = train_test_split(case_ids, train_size=0.6, random_state=1)\n",
    "case_ids_valid, case_ids_test = train_test_split(case_ids_test, train_size=0.5, random_state=1)\n",
    "\n",
    "cols_pred = []\n",
    "for col in data.columns:\n",
    "    if col[-1].isupper() and col[:-1].islower():\n",
    "        cols_pred.append(col)\n",
    "\n",
    "print(cols_pred)\n",
    "\n",
    "def from_polars_to_pandas(case_ids: pl.DataFrame) -> pl.DataFrame:\n",
    "    return (\n",
    "        data.filter(pl.col(\"case_id\").is_in(case_ids))[[\"case_id\", \"WEEK_NUM\", \"target\"]].to_pandas(),\n",
    "        data.filter(pl.col(\"case_id\").is_in(case_ids))[cols_pred].to_pandas(),\n",
    "        data.filter(pl.col(\"case_id\").is_in(case_ids))[\"target\"].to_pandas()\n",
    "    )\n",
    "\n",
    "base_train, X_train, y_train = from_polars_to_pandas(case_ids_train)\n",
    "base_valid, X_valid, y_valid = from_polars_to_pandas(case_ids_valid)\n",
    "base_test, X_test, y_test = from_polars_to_pandas(case_ids_test)\n",
    "\n",
    "for df in [X_train, X_valid, X_test]:\n",
    "    df = convert_strings(df)"
   ]
  },
  {
   "cell_type": "code",
   "execution_count": 8,
   "id": "85eb8614",
   "metadata": {
    "execution": {
     "iopub.execute_input": "2024-03-19T20:06:20.737257Z",
     "iopub.status.busy": "2024-03-19T20:06:20.736742Z",
     "iopub.status.idle": "2024-03-19T20:06:20.915350Z",
     "shell.execute_reply": "2024-03-19T20:06:20.913820Z"
    },
    "papermill": {
     "duration": 0.187938,
     "end_time": "2024-03-19T20:06:20.917989",
     "exception": false,
     "start_time": "2024-03-19T20:06:20.730051",
     "status": "completed"
    },
    "tags": []
   },
   "outputs": [
    {
     "data": {
      "text/plain": [
       "amtinstpaidbefduel24m_4187115A      float64\n",
       "annuity_780A                        float64\n",
       "annuitynextmonth_57A                float64\n",
       "avginstallast24m_3658937A           float64\n",
       "avglnamtstart24m_4525187A           float64\n",
       "avgoutstandbalancel6m_4187114A      float64\n",
       "avgpmtlast12m_4525200A              float64\n",
       "credamount_770A                     float64\n",
       "currdebt_22A                        float64\n",
       "currdebtcredtyperange_828A          float64\n",
       "disbursedcredamount_1113A           float64\n",
       "downpmt_116A                        float64\n",
       "inittransactionamount_650A          float64\n",
       "lastapprcommoditycat_1041M         category\n",
       "lastapprcommoditytypec_5251766M    category\n",
       "lastapprcredamount_781A             float64\n",
       "lastcancelreason_561M              category\n",
       "lastotherinc_902A                   float64\n",
       "lastotherlnsexpense_631A            float64\n",
       "lastrejectcommoditycat_161M        category\n",
       "lastrejectcommodtypec_5251769M     category\n",
       "lastrejectcredamount_222A           float64\n",
       "lastrejectreason_759M              category\n",
       "lastrejectreasonclient_4145040M    category\n",
       "maininc_215A                        float64\n",
       "maxannuity_159A                     float64\n",
       "maxannuity_4075009A                 float64\n",
       "maxdebt4_972A                       float64\n",
       "maxinstallast24m_3658928A           float64\n",
       "maxlnamtstart6m_4525199A            float64\n",
       "maxoutstandbalancel12m_4187113A     float64\n",
       "maxpmtlast3m_4525190A               float64\n",
       "previouscontdistrict_112M          category\n",
       "price_1097A                         float64\n",
       "sumoutstandtotal_3546847A           float64\n",
       "sumoutstandtotalest_4493215A        float64\n",
       "totaldebt_9A                        float64\n",
       "totalsettled_863A                   float64\n",
       "totinstallast1m_4525188A            float64\n",
       "description_5085714M               category\n",
       "education_1103M                    category\n",
       "education_88M                      category\n",
       "maritalst_385M                     category\n",
       "maritalst_893M                     category\n",
       "pmtaverage_3A                       float64\n",
       "pmtaverage_4527227A                 float64\n",
       "pmtaverage_4955615A                 float64\n",
       "pmtssum_45A                         float64\n",
       "dtype: object"
      ]
     },
     "execution_count": 8,
     "metadata": {},
     "output_type": "execute_result"
    }
   ],
   "source": [
    "from sklearn.decomposition import PCA\n",
    "\n",
    "pca = PCA(n_components=2)\n",
    "X_train.dtypes"
   ]
  },
  {
   "cell_type": "code",
   "execution_count": 9,
   "id": "7fc5fe65",
   "metadata": {
    "execution": {
     "iopub.execute_input": "2024-03-19T20:06:20.929395Z",
     "iopub.status.busy": "2024-03-19T20:06:20.929041Z",
     "iopub.status.idle": "2024-03-19T20:06:20.935184Z",
     "shell.execute_reply": "2024-03-19T20:06:20.933646Z"
    },
    "papermill": {
     "duration": 0.014671,
     "end_time": "2024-03-19T20:06:20.937706",
     "exception": false,
     "start_time": "2024-03-19T20:06:20.923035",
     "status": "completed"
    },
    "tags": []
   },
   "outputs": [
    {
     "name": "stdout",
     "output_type": "stream",
     "text": [
      "Train: (915995, 48)\n",
      "Valid: (305332, 48)\n",
      "Test: (305332, 48)\n"
     ]
    }
   ],
   "source": [
    "print(f\"Train: {X_train.shape}\")\n",
    "print(f\"Valid: {X_valid.shape}\")\n",
    "print(f\"Test: {X_test.shape}\")"
   ]
  },
  {
   "cell_type": "markdown",
   "id": "c037cab8",
   "metadata": {
    "papermill": {
     "duration": 0.004385,
     "end_time": "2024-03-19T20:06:20.947092",
     "exception": false,
     "start_time": "2024-03-19T20:06:20.942707",
     "status": "completed"
    },
    "tags": []
   },
   "source": [
    "## Training LightGBM\n",
    "\n",
    "Minimal example of LightGBM training is shown below."
   ]
  },
  {
   "cell_type": "code",
   "execution_count": 10,
   "id": "0cbbe328",
   "metadata": {
    "execution": {
     "iopub.execute_input": "2024-03-19T20:06:20.958218Z",
     "iopub.status.busy": "2024-03-19T20:06:20.957900Z",
     "iopub.status.idle": "2024-03-19T20:07:32.681287Z",
     "shell.execute_reply": "2024-03-19T20:07:32.680608Z"
    },
    "papermill": {
     "duration": 71.731099,
     "end_time": "2024-03-19T20:07:32.682969",
     "exception": false,
     "start_time": "2024-03-19T20:06:20.951870",
     "status": "completed"
    },
    "tags": []
   },
   "outputs": [
    {
     "name": "stderr",
     "output_type": "stream",
     "text": [
      "/opt/conda/lib/python3.10/site-packages/lightgbm/engine.py:177: UserWarning: Found `n_estimators` in params. Will use it instead of argument\n",
      "  _log_warning(f\"Found `{alias}` in params. Will use it instead of argument\")\n"
     ]
    },
    {
     "name": "stdout",
     "output_type": "stream",
     "text": [
      "Training until validation scores don't improve for 10 rounds\n",
      "[50]\tvalid_0's auc: 0.705963\n",
      "[100]\tvalid_0's auc: 0.724362\n",
      "[150]\tvalid_0's auc: 0.731423\n",
      "[200]\tvalid_0's auc: 0.735874\n",
      "[250]\tvalid_0's auc: 0.739009\n",
      "[300]\tvalid_0's auc: 0.740965\n",
      "[350]\tvalid_0's auc: 0.742924\n",
      "[400]\tvalid_0's auc: 0.744582\n",
      "[450]\tvalid_0's auc: 0.745977\n",
      "[500]\tvalid_0's auc: 0.747033\n",
      "[550]\tvalid_0's auc: 0.747877\n",
      "[600]\tvalid_0's auc: 0.749039\n",
      "[650]\tvalid_0's auc: 0.750087\n",
      "[700]\tvalid_0's auc: 0.750863\n",
      "Early stopping, best iteration is:\n",
      "[739]\tvalid_0's auc: 0.751216\n"
     ]
    }
   ],
   "source": [
    "lgb_train = lgb.Dataset(X_train, label=y_train)\n",
    "lgb_valid = lgb.Dataset(X_valid, label=y_valid, reference=lgb_train)\n",
    "\n",
    "params = {\n",
    "    \"boosting_type\": \"gbdt\",\n",
    "    \"objective\": \"binary\",\n",
    "    \"metric\": \"auc\",\n",
    "    \"max_depth\": 3,\n",
    "    \"num_leaves\": 31,\n",
    "    \"learning_rate\": 0.05,\n",
    "    \"feature_fraction\": 0.9,\n",
    "    \"bagging_fraction\": 0.8,\n",
    "    \"bagging_freq\": 5,\n",
    "    \"n_estimators\": 1000,\n",
    "    \"verbose\": -1,\n",
    "}\n",
    "\n",
    "gbm = lgb.train(\n",
    "    params,\n",
    "    lgb_train,\n",
    "    valid_sets=lgb_valid,\n",
    "    callbacks=[lgb.log_evaluation(50), lgb.early_stopping(10)]\n",
    ")"
   ]
  },
  {
   "cell_type": "markdown",
   "id": "f0419e38",
   "metadata": {
    "papermill": {
     "duration": 0.005626,
     "end_time": "2024-03-19T20:07:32.694434",
     "exception": false,
     "start_time": "2024-03-19T20:07:32.688808",
     "status": "completed"
    },
    "tags": []
   },
   "source": [
    "Evaluation with AUC and then comparison with the stability metric is shown below."
   ]
  },
  {
   "cell_type": "code",
   "execution_count": 11,
   "id": "23addf80",
   "metadata": {
    "execution": {
     "iopub.execute_input": "2024-03-19T20:07:32.708187Z",
     "iopub.status.busy": "2024-03-19T20:07:32.707642Z",
     "iopub.status.idle": "2024-03-19T20:07:50.222649Z",
     "shell.execute_reply": "2024-03-19T20:07:50.221188Z"
    },
    "papermill": {
     "duration": 17.524515,
     "end_time": "2024-03-19T20:07:50.224796",
     "exception": false,
     "start_time": "2024-03-19T20:07:32.700281",
     "status": "completed"
    },
    "tags": []
   },
   "outputs": [
    {
     "name": "stdout",
     "output_type": "stream",
     "text": [
      "The AUC score on the train set is: 0.764122917660593\n",
      "The AUC score on the valid set is: 0.7512157223309048\n",
      "The AUC score on the test set is: 0.7483072129459662\n"
     ]
    }
   ],
   "source": [
    "for base, X in [(base_train, X_train), (base_valid, X_valid), (base_test, X_test)]:\n",
    "    y_pred = gbm.predict(X, num_iteration=gbm.best_iteration)\n",
    "    base[\"score\"] = y_pred\n",
    "\n",
    "print(f'The AUC score on the train set is: {roc_auc_score(base_train[\"target\"], base_train[\"score\"])}') \n",
    "print(f'The AUC score on the valid set is: {roc_auc_score(base_valid[\"target\"], base_valid[\"score\"])}') \n",
    "print(f'The AUC score on the test set is: {roc_auc_score(base_test[\"target\"], base_test[\"score\"])}')  "
   ]
  },
  {
   "cell_type": "code",
   "execution_count": 12,
   "id": "e8800b13",
   "metadata": {
    "execution": {
     "iopub.execute_input": "2024-03-19T20:07:50.238862Z",
     "iopub.status.busy": "2024-03-19T20:07:50.238541Z",
     "iopub.status.idle": "2024-03-19T20:07:51.083039Z",
     "shell.execute_reply": "2024-03-19T20:07:51.081230Z"
    },
    "papermill": {
     "duration": 0.85501,
     "end_time": "2024-03-19T20:07:51.085656",
     "exception": false,
     "start_time": "2024-03-19T20:07:50.230646",
     "status": "completed"
    },
    "tags": []
   },
   "outputs": [
    {
     "name": "stdout",
     "output_type": "stream",
     "text": [
      "The stability score on the train set is: 0.4976648127691175\n",
      "The stability score on the valid set is: 0.4726726686264489\n",
      "The stability score on the test set is: 0.4583643686935092\n"
     ]
    }
   ],
   "source": [
    "def gini_stability(base, w_fallingrate=88.0, w_resstd=-0.5):\n",
    "    gini_in_time = base.loc[:, [\"WEEK_NUM\", \"target\", \"score\"]]\\\n",
    "        .sort_values(\"WEEK_NUM\")\\\n",
    "        .groupby(\"WEEK_NUM\")[[\"target\", \"score\"]]\\\n",
    "        .apply(lambda x: 2*roc_auc_score(x[\"target\"], x[\"score\"])-1).tolist()\n",
    "    \n",
    "    x = np.arange(len(gini_in_time))\n",
    "    y = gini_in_time\n",
    "    a, b = np.polyfit(x, y, 1)\n",
    "    y_hat = a*x + b\n",
    "    residuals = y - y_hat\n",
    "    res_std = np.std(residuals)\n",
    "    avg_gini = np.mean(gini_in_time)\n",
    "    return avg_gini + w_fallingrate * min(0, a) + w_resstd * res_std\n",
    "\n",
    "stability_score_train = gini_stability(base_train)\n",
    "stability_score_valid = gini_stability(base_valid)\n",
    "stability_score_test = gini_stability(base_test)\n",
    "\n",
    "print(f'The stability score on the train set is: {stability_score_train}') \n",
    "print(f'The stability score on the valid set is: {stability_score_valid}') \n",
    "print(f'The stability score on the test set is: {stability_score_test}')  "
   ]
  },
  {
   "cell_type": "markdown",
   "id": "cad31442",
   "metadata": {
    "papermill": {
     "duration": 0.006399,
     "end_time": "2024-03-19T20:07:51.098179",
     "exception": false,
     "start_time": "2024-03-19T20:07:51.091780",
     "status": "completed"
    },
    "tags": []
   },
   "source": [
    "## Submission\n",
    "\n",
    "Scoring the submission dataset is below, we need to take care of new categories. Then we save the score as a last step. "
   ]
  },
  {
   "cell_type": "code",
   "execution_count": 13,
   "id": "96653e54",
   "metadata": {
    "execution": {
     "iopub.execute_input": "2024-03-19T20:07:51.111685Z",
     "iopub.status.busy": "2024-03-19T20:07:51.111350Z",
     "iopub.status.idle": "2024-03-19T20:07:51.200131Z",
     "shell.execute_reply": "2024-03-19T20:07:51.199010Z"
    },
    "papermill": {
     "duration": 0.098088,
     "end_time": "2024-03-19T20:07:51.202509",
     "exception": false,
     "start_time": "2024-03-19T20:07:51.104421",
     "status": "completed"
    },
    "tags": []
   },
   "outputs": [],
   "source": [
    "X_submission = data_submission[cols_pred].to_pandas()\n",
    "X_submission = convert_strings(X_submission)\n",
    "categorical_cols = X_train.select_dtypes(include=['category']).columns\n",
    "\n",
    "for col in categorical_cols:\n",
    "    train_categories = set(X_train[col].cat.categories)\n",
    "    submission_categories = set(X_submission[col].cat.categories)\n",
    "    new_categories = submission_categories - train_categories\n",
    "    X_submission.loc[X_submission[col].isin(new_categories), col] = \"Unknown\"\n",
    "    new_dtype = pd.CategoricalDtype(categories=train_categories, ordered=True)\n",
    "    X_train[col] = X_train[col].astype(new_dtype)\n",
    "    X_submission[col] = X_submission[col].astype(new_dtype)\n",
    "\n",
    "y_submission_pred = gbm.predict(X_submission, num_iteration=gbm.best_iteration)"
   ]
  },
  {
   "cell_type": "code",
   "execution_count": 14,
   "id": "f8917b70",
   "metadata": {
    "execution": {
     "iopub.execute_input": "2024-03-19T20:07:51.216339Z",
     "iopub.status.busy": "2024-03-19T20:07:51.216003Z",
     "iopub.status.idle": "2024-03-19T20:07:51.228507Z",
     "shell.execute_reply": "2024-03-19T20:07:51.227147Z"
    },
    "papermill": {
     "duration": 0.022388,
     "end_time": "2024-03-19T20:07:51.231092",
     "exception": false,
     "start_time": "2024-03-19T20:07:51.208704",
     "status": "completed"
    },
    "tags": []
   },
   "outputs": [],
   "source": [
    "submission = pd.DataFrame({\n",
    "    \"case_id\": data_submission[\"case_id\"].to_numpy(),\n",
    "    \"score\": y_submission_pred\n",
    "}).set_index('case_id')\n",
    "submission.to_csv(\"./submission.csv\")"
   ]
  },
  {
   "cell_type": "markdown",
   "id": "1b55563e",
   "metadata": {
    "papermill": {
     "duration": 0.005564,
     "end_time": "2024-03-19T20:07:51.242789",
     "exception": false,
     "start_time": "2024-03-19T20:07:51.237225",
     "status": "completed"
    },
    "tags": []
   },
   "source": [
    "Best of luck, and most importantly, enjoy the process of learning and discovery! \n",
    "\n",
    "<img src=\"https://i.imgur.com/obVWIBh.png\" alt=\"Image\" width=\"700\"/>"
   ]
  }
 ],
 "metadata": {
  "kaggle": {
   "accelerator": "none",
   "dataSources": [
    {
     "databundleVersionId": 7921029,
     "sourceId": 50160,
     "sourceType": "competition"
    }
   ],
   "dockerImageVersionId": 30635,
   "isGpuEnabled": false,
   "isInternetEnabled": false,
   "language": "python",
   "sourceType": "notebook"
  },
  "kernelspec": {
   "display_name": "Python 3",
   "language": "python",
   "name": "python3"
  },
  "language_info": {
   "codemirror_mode": {
    "name": "ipython",
    "version": 3
   },
   "file_extension": ".py",
   "mimetype": "text/x-python",
   "name": "python",
   "nbconvert_exporter": "python",
   "pygments_lexer": "ipython3",
   "version": "3.10.12"
  },
  "papermill": {
   "default_parameters": {},
   "duration": 119.467029,
   "end_time": "2024-03-19T20:07:52.372584",
   "environment_variables": {},
   "exception": null,
   "input_path": "__notebook__.ipynb",
   "output_path": "__notebook__.ipynb",
   "parameters": {},
   "start_time": "2024-03-19T20:05:52.905555",
   "version": "2.4.0"
  }
 },
 "nbformat": 4,
 "nbformat_minor": 5
}
