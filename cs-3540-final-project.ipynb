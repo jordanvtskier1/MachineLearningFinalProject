{
 "cells": [
  {
   "cell_type": "markdown",
   "id": "118e3ae7",
   "metadata": {
    "_cell_guid": "b1076dfc-b9ad-4769-8c92-a6c4dae69d19",
    "_uuid": "8f2839f25d086af736a60e9eeb907d3b93b6e0e5",
    "papermill": {
     "duration": 0.008493,
     "end_time": "2024-03-19T21:55:39.747719",
     "exception": false,
     "start_time": "2024-03-19T21:55:39.739226",
     "status": "completed"
    },
    "tags": []
   },
   "source": [
    "# Example Notebook\n",
    "\n",
    "Welcome to the example notebook for the Home Credit Kaggle competition. The goal of this competition is to determine how likely a customer is going to default on an issued loan. The main difference between the [first](https://www.kaggle.com/c/home-credit-default-risk) and this competition is that now your submission will be scored with a custom metric that will take into account how well the model performs in future. A decline in performance will be penalized. The goal is to create a model that is stable and performs well in the future.\n",
    "\n",
    "In this notebook you will see how to:\n",
    "* Load the data\n",
    "* Join tables with Polars - a DataFrame library implemented in Rust language, designed to be blazingy fast and memory efficient.  \n",
    "* Create simple aggregation features\n",
    "* Train a LightGBM model\n",
    "* Create a submission table\n",
    "\n",
    "## Load the data"
   ]
  },
  {
   "cell_type": "code",
   "execution_count": 1,
   "id": "f3fa88b3",
   "metadata": {
    "execution": {
     "iopub.execute_input": "2024-03-19T21:55:39.766495Z",
     "iopub.status.busy": "2024-03-19T21:55:39.765704Z",
     "iopub.status.idle": "2024-03-19T21:55:44.339915Z",
     "shell.execute_reply": "2024-03-19T21:55:44.338581Z"
    },
    "papermill": {
     "duration": 4.587263,
     "end_time": "2024-03-19T21:55:44.342983",
     "exception": false,
     "start_time": "2024-03-19T21:55:39.755720",
     "status": "completed"
    },
    "tags": []
   },
   "outputs": [],
   "source": [
    "import polars as pl\n",
    "import numpy as np\n",
    "import pandas as pd\n",
    "import lightgbm as lgb\n",
    "from sklearn.model_selection import train_test_split\n",
    "from sklearn.metrics import roc_auc_score \n",
    "\n",
    "dataPath = \"/kaggle/input/home-credit-credit-risk-model-stability/\""
   ]
  },
  {
   "cell_type": "code",
   "execution_count": 2,
   "id": "0930c8e3",
   "metadata": {
    "execution": {
     "iopub.execute_input": "2024-03-19T21:55:44.360995Z",
     "iopub.status.busy": "2024-03-19T21:55:44.360597Z",
     "iopub.status.idle": "2024-03-19T21:55:44.383545Z",
     "shell.execute_reply": "2024-03-19T21:55:44.382244Z"
    },
    "papermill": {
     "duration": 0.035094,
     "end_time": "2024-03-19T21:55:44.386357",
     "exception": false,
     "start_time": "2024-03-19T21:55:44.351263",
     "status": "completed"
    },
    "tags": []
   },
   "outputs": [],
   "source": [
    "feature_defs = pd.read_csv(dataPath + \"feature_definitions.csv\")"
   ]
  },
  {
   "cell_type": "code",
   "execution_count": 3,
   "id": "3dde46f7",
   "metadata": {
    "execution": {
     "iopub.execute_input": "2024-03-19T21:55:44.404443Z",
     "iopub.status.busy": "2024-03-19T21:55:44.403936Z",
     "iopub.status.idle": "2024-03-19T21:55:44.414053Z",
     "shell.execute_reply": "2024-03-19T21:55:44.412693Z"
    },
    "papermill": {
     "duration": 0.021765,
     "end_time": "2024-03-19T21:55:44.416199",
     "exception": false,
     "start_time": "2024-03-19T21:55:44.394434",
     "status": "completed"
    },
    "tags": []
   },
   "outputs": [],
   "source": [
    "def set_table_dtypes(df: pl.DataFrame) -> pl.DataFrame:\n",
    "    # implement here all desired dtypes for tables\n",
    "    # the following is just an example\n",
    "    for col in df.columns:\n",
    "        # last letter of column name will help you determine the type\n",
    "        if col[-1] in (\"P\", \"A\"):\n",
    "            df = df.with_columns(pl.col(col).cast(pl.Float64).alias(col))\n",
    "\n",
    "    return df\n",
    "\n",
    "def convert_strings(df: pd.DataFrame) -> pd.DataFrame:\n",
    "    for col in df.columns:  \n",
    "        if df[col].dtype.name in ['object', 'string']:\n",
    "            df[col] = df[col].astype(\"string\").astype('category')\n",
    "            current_categories = df[col].cat.categories\n",
    "            new_categories = current_categories.to_list() + [\"Unknown\"]\n",
    "            new_dtype = pd.CategoricalDtype(categories=new_categories, ordered=True)\n",
    "            df[col] = df[col].astype(new_dtype)\n",
    "    return df"
   ]
  },
  {
   "cell_type": "code",
   "execution_count": 4,
   "id": "2c42d2b8",
   "metadata": {
    "execution": {
     "iopub.execute_input": "2024-03-19T21:55:44.433755Z",
     "iopub.status.busy": "2024-03-19T21:55:44.433312Z",
     "iopub.status.idle": "2024-03-19T21:56:03.236585Z",
     "shell.execute_reply": "2024-03-19T21:56:03.235553Z"
    },
    "papermill": {
     "duration": 18.815696,
     "end_time": "2024-03-19T21:56:03.239834",
     "exception": false,
     "start_time": "2024-03-19T21:55:44.424138",
     "status": "completed"
    },
    "tags": []
   },
   "outputs": [],
   "source": [
    "train_basetable = pl.read_csv(dataPath + \"csv_files/train/train_base.csv\")\n",
    "train_static = pl.concat(\n",
    "    [\n",
    "        pl.read_csv(dataPath + \"csv_files/train/train_static_0_0.csv\").pipe(set_table_dtypes),\n",
    "        pl.read_csv(dataPath + \"csv_files/train/train_static_0_1.csv\").pipe(set_table_dtypes),\n",
    "    ],\n",
    "    how=\"vertical_relaxed\",\n",
    ")\n",
    "train_static_cb = pl.read_csv(dataPath + \"csv_files/train/train_static_cb_0.csv\").pipe(set_table_dtypes)\n",
    "train_person_1 = pl.read_csv(dataPath + \"csv_files/train/train_person_1.csv\").pipe(set_table_dtypes) \n",
    "train_credit_bureau_b_2 = pl.read_csv(dataPath + \"csv_files/train/train_credit_bureau_b_2.csv\").pipe(set_table_dtypes) "
   ]
  },
  {
   "cell_type": "code",
   "execution_count": 5,
   "id": "87d40000",
   "metadata": {
    "execution": {
     "iopub.execute_input": "2024-03-19T21:56:03.258814Z",
     "iopub.status.busy": "2024-03-19T21:56:03.257999Z",
     "iopub.status.idle": "2024-03-19T21:56:03.352635Z",
     "shell.execute_reply": "2024-03-19T21:56:03.351516Z"
    },
    "papermill": {
     "duration": 0.107052,
     "end_time": "2024-03-19T21:56:03.355459",
     "exception": false,
     "start_time": "2024-03-19T21:56:03.248407",
     "status": "completed"
    },
    "tags": []
   },
   "outputs": [],
   "source": [
    "test_basetable = pl.read_csv(dataPath + \"csv_files/test/test_base.csv\")\n",
    "test_static = pl.concat(\n",
    "    [\n",
    "        pl.read_csv(dataPath + \"csv_files/test/test_static_0_0.csv\").pipe(set_table_dtypes),\n",
    "        pl.read_csv(dataPath + \"csv_files/test/test_static_0_1.csv\").pipe(set_table_dtypes),\n",
    "        pl.read_csv(dataPath + \"csv_files/test/test_static_0_2.csv\").pipe(set_table_dtypes),\n",
    "    ],\n",
    "    how=\"vertical_relaxed\",\n",
    ")\n",
    "test_static_cb = pl.read_csv(dataPath + \"csv_files/test/test_static_cb_0.csv\").pipe(set_table_dtypes)\n",
    "test_person_1 = pl.read_csv(dataPath + \"csv_files/test/test_person_1.csv\").pipe(set_table_dtypes) \n",
    "test_credit_bureau_b_2 = pl.read_csv(dataPath + \"csv_files/test/test_credit_bureau_b_2.csv\").pipe(set_table_dtypes) "
   ]
  },
  {
   "cell_type": "markdown",
   "id": "b3e53edd",
   "metadata": {
    "papermill": {
     "duration": 0.007789,
     "end_time": "2024-03-19T21:56:03.371485",
     "exception": false,
     "start_time": "2024-03-19T21:56:03.363696",
     "status": "completed"
    },
    "tags": []
   },
   "source": [
    "## Feature engineering\n",
    "\n",
    "In this part, we can see a simple example of joining tables via `case_id`. Here the loading and joining is done with polars library. Polars library is blazingly fast and has much smaller memory footprint than pandas. "
   ]
  },
  {
   "cell_type": "code",
   "execution_count": 6,
   "id": "6d470808",
   "metadata": {
    "execution": {
     "iopub.execute_input": "2024-03-19T21:56:03.393234Z",
     "iopub.status.busy": "2024-03-19T21:56:03.392543Z",
     "iopub.status.idle": "2024-03-19T21:56:03.432344Z",
     "shell.execute_reply": "2024-03-19T21:56:03.431092Z"
    },
    "papermill": {
     "duration": 0.055046,
     "end_time": "2024-03-19T21:56:03.434936",
     "exception": false,
     "start_time": "2024-03-19T21:56:03.379890",
     "status": "completed"
    },
    "tags": []
   },
   "outputs": [
    {
     "data": {
      "text/html": [
       "<div>\n",
       "<style scoped>\n",
       "    .dataframe tbody tr th:only-of-type {\n",
       "        vertical-align: middle;\n",
       "    }\n",
       "\n",
       "    .dataframe tbody tr th {\n",
       "        vertical-align: top;\n",
       "    }\n",
       "\n",
       "    .dataframe thead th {\n",
       "        text-align: right;\n",
       "    }\n",
       "</style>\n",
       "<table border=\"1\" class=\"dataframe\">\n",
       "  <thead>\n",
       "    <tr style=\"text-align: right;\">\n",
       "      <th></th>\n",
       "      <th>Variable</th>\n",
       "      <th>Description</th>\n",
       "    </tr>\n",
       "  </thead>\n",
       "  <tbody>\n",
       "    <tr>\n",
       "      <th>461</th>\n",
       "      <td>twobodfilling_608L</td>\n",
       "      <td>Type of application process.</td>\n",
       "    </tr>\n",
       "  </tbody>\n",
       "</table>\n",
       "</div>"
      ],
      "text/plain": [
       "               Variable                   Description\n",
       "461  twobodfilling_608L  Type of application process."
      ]
     },
     "metadata": {},
     "output_type": "display_data"
    }
   ],
   "source": [
    "# Use this to view variable descriptions\n",
    "pd.set_option('display.max_colwidth', None)\n",
    "display(feature_defs[feature_defs[\"Variable\"] == \"twobodfilling_608L\"])"
   ]
  },
  {
   "cell_type": "code",
   "execution_count": null,
   "id": "20d084c1",
   "metadata": {
    "execution": {
     "iopub.execute_input": "2024-03-19T21:32:18.106174Z",
     "iopub.status.busy": "2024-03-19T21:32:18.105777Z",
     "iopub.status.idle": "2024-03-19T21:32:18.158702Z",
     "shell.execute_reply": "2024-03-19T21:32:18.157295Z",
     "shell.execute_reply.started": "2024-03-19T21:32:18.106145Z"
    },
    "papermill": {
     "duration": 0.007835,
     "end_time": "2024-03-19T21:56:03.451146",
     "exception": false,
     "start_time": "2024-03-19T21:56:03.443311",
     "status": "completed"
    },
    "tags": []
   },
   "outputs": [],
   "source": []
  },
  {
   "cell_type": "code",
   "execution_count": 7,
   "id": "d8f6d052",
   "metadata": {
    "execution": {
     "iopub.execute_input": "2024-03-19T21:56:03.469813Z",
     "iopub.status.busy": "2024-03-19T21:56:03.469410Z",
     "iopub.status.idle": "2024-03-19T21:56:05.232823Z",
     "shell.execute_reply": "2024-03-19T21:56:05.231584Z"
    },
    "papermill": {
     "duration": 1.776267,
     "end_time": "2024-03-19T21:56:05.235617",
     "exception": false,
     "start_time": "2024-03-19T21:56:03.459350",
     "status": "completed"
    },
    "tags": []
   },
   "outputs": [
    {
     "name": "stdout",
     "output_type": "stream",
     "text": [
      "['amtinstpaidbefduel24m_4187115A', 'annuity_780A', 'annuitynextmonth_57A', 'avginstallast24m_3658937A', 'avglnamtstart24m_4525187A', 'avgoutstandbalancel6m_4187114A', 'avgpmtlast12m_4525200A', 'credamount_770A', 'currdebt_22A', 'currdebtcredtyperange_828A', 'disbursedcredamount_1113A', 'downpmt_116A', 'inittransactionamount_650A', 'lastapprcommoditycat_1041M', 'lastapprcommoditytypec_5251766M', 'lastapprcredamount_781A', 'lastcancelreason_561M', 'lastotherinc_902A', 'lastotherlnsexpense_631A', 'lastrejectcommoditycat_161M', 'lastrejectcommodtypec_5251769M', 'lastrejectcredamount_222A', 'lastrejectreason_759M', 'lastrejectreasonclient_4145040M', 'maininc_215A', 'maxannuity_159A', 'maxannuity_4075009A', 'maxdebt4_972A', 'maxinstallast24m_3658928A', 'maxlnamtstart6m_4525199A', 'maxoutstandbalancel12m_4187113A', 'maxpmtlast3m_4525190A', 'previouscontdistrict_112M', 'price_1097A', 'sumoutstandtotal_3546847A', 'sumoutstandtotalest_4493215A', 'totaldebt_9A', 'totalsettled_863A', 'totinstallast1m_4525188A']\n",
      "['description_5085714M', 'education_1103M', 'education_88M', 'maritalst_385M', 'maritalst_893M', 'pmtaverage_3A', 'pmtaverage_4527227A', 'pmtaverage_4955615A', 'pmtssum_45A']\n"
     ]
    }
   ],
   "source": [
    "# We need to use aggregation functions in tables with depth > 1, so tables that contain num_group1 column or \n",
    "# also num_group2 column.\n",
    "train_person_1_feats_1 = train_person_1.group_by(\"case_id\").agg(\n",
    "    pl.col(\"mainoccupationinc_384A\").max().alias(\"mainoccupationinc_384A_max\"),\n",
    "    (pl.col(\"incometype_1044T\") == \"SELFEMPLOYED\").max().alias(\"mainoccupationinc_384A_any_selfemployed\")\n",
    ")\n",
    "\n",
    "# Here num_group1=0 has special meaning, it is the person who applied for the loan.\n",
    "train_person_1_feats_2 = train_person_1.select([\"case_id\", \"num_group1\", \"housetype_905L\"]).filter(\n",
    "    pl.col(\"num_group1\") == 0\n",
    ").drop(\"num_group1\").rename({\"housetype_905L\": \"person_housetype\"})\n",
    "\n",
    "# Here we have num_goup1 and num_group2, so we need to aggregate again.\n",
    "train_credit_bureau_b_2_feats = train_credit_bureau_b_2.group_by(\"case_id\").agg(\n",
    "    pl.col(\"pmts_pmtsoverdue_635A\").max().alias(\"pmts_pmtsoverdue_635A_max\"),\n",
    "    # pmts_dpdvalue_108P = value of past-due payment for active loan\n",
    "    (pl.col(\"pmts_dpdvalue_108P\") > 31).max().alias(\"pmts_dpdvalue_108P_over31\")\n",
    ")\n",
    "\n",
    "# We will process in this examples only A-type and M-type columns, so we need to select them.\n",
    "selected_static_cols = []\n",
    "for col in train_static.columns:\n",
    "    if col[-1] in (\"A\", \"M\"):\n",
    "        selected_static_cols.append(col)\n",
    "print(selected_static_cols)\n",
    "\n",
    "selected_static_cb_cols = []\n",
    "for col in train_static_cb.columns:\n",
    "    if col[-1] in (\"A\", \"M\"):\n",
    "        selected_static_cb_cols.append(col)\n",
    "print(selected_static_cb_cols)\n",
    "\n",
    "# Join all tables together.\n",
    "data = train_basetable.join(\n",
    "    train_static.select([\"case_id\"]+selected_static_cols), how=\"left\", on=\"case_id\"\n",
    ").join(\n",
    "    train_static_cb.select([\"case_id\"]+selected_static_cb_cols), how=\"left\", on=\"case_id\"\n",
    ").join(\n",
    "    train_person_1_feats_1, how=\"left\", on=\"case_id\"\n",
    ").join(\n",
    "    train_person_1_feats_2, how=\"left\", on=\"case_id\"\n",
    ").join(\n",
    "    train_credit_bureau_b_2_feats, how=\"left\", on=\"case_id\"\n",
    ")"
   ]
  },
  {
   "cell_type": "code",
   "execution_count": 8,
   "id": "27ab735d",
   "metadata": {
    "execution": {
     "iopub.execute_input": "2024-03-19T21:56:05.254357Z",
     "iopub.status.busy": "2024-03-19T21:56:05.253663Z",
     "iopub.status.idle": "2024-03-19T21:56:05.268817Z",
     "shell.execute_reply": "2024-03-19T21:56:05.267623Z"
    },
    "papermill": {
     "duration": 0.027495,
     "end_time": "2024-03-19T21:56:05.271487",
     "exception": false,
     "start_time": "2024-03-19T21:56:05.243992",
     "status": "completed"
    },
    "tags": []
   },
   "outputs": [],
   "source": [
    "test_person_1_feats_1 = test_person_1.group_by(\"case_id\").agg(\n",
    "    pl.col(\"mainoccupationinc_384A\").max().alias(\"mainoccupationinc_384A_max\"),\n",
    "    (pl.col(\"incometype_1044T\") == \"SELFEMPLOYED\").max().alias(\"mainoccupationinc_384A_any_selfemployed\")\n",
    ")\n",
    "\n",
    "test_person_1_feats_2 = test_person_1.select([\"case_id\", \"num_group1\", \"housetype_905L\"]).filter(\n",
    "    pl.col(\"num_group1\") == 0\n",
    ").drop(\"num_group1\").rename({\"housetype_905L\": \"person_housetype\"})\n",
    "\n",
    "test_credit_bureau_b_2_feats = test_credit_bureau_b_2.group_by(\"case_id\").agg(\n",
    "    pl.col(\"pmts_pmtsoverdue_635A\").max().alias(\"pmts_pmtsoverdue_635A_max\"),\n",
    "    (pl.col(\"pmts_dpdvalue_108P\") > 31).max().alias(\"pmts_dpdvalue_108P_over31\")\n",
    ")\n",
    "\n",
    "data_submission = test_basetable.join(\n",
    "    test_static.select([\"case_id\"]+selected_static_cols), how=\"left\", on=\"case_id\"\n",
    ").join(\n",
    "    test_static_cb.select([\"case_id\"]+selected_static_cb_cols), how=\"left\", on=\"case_id\"\n",
    ").join(\n",
    "    test_person_1_feats_1, how=\"left\", on=\"case_id\"\n",
    ").join(\n",
    "    test_person_1_feats_2, how=\"left\", on=\"case_id\"\n",
    ").join(\n",
    "    test_credit_bureau_b_2_feats, how=\"left\", on=\"case_id\"\n",
    ")"
   ]
  },
  {
   "cell_type": "code",
   "execution_count": 9,
   "id": "e3f96307",
   "metadata": {
    "execution": {
     "iopub.execute_input": "2024-03-19T21:56:05.291580Z",
     "iopub.status.busy": "2024-03-19T21:56:05.290225Z",
     "iopub.status.idle": "2024-03-19T21:56:14.797567Z",
     "shell.execute_reply": "2024-03-19T21:56:14.796145Z"
    },
    "papermill": {
     "duration": 9.521062,
     "end_time": "2024-03-19T21:56:14.800882",
     "exception": false,
     "start_time": "2024-03-19T21:56:05.279820",
     "status": "completed"
    },
    "tags": []
   },
   "outputs": [
    {
     "name": "stdout",
     "output_type": "stream",
     "text": [
      "['amtinstpaidbefduel24m_4187115A', 'annuity_780A', 'annuitynextmonth_57A', 'avginstallast24m_3658937A', 'avglnamtstart24m_4525187A', 'avgoutstandbalancel6m_4187114A', 'avgpmtlast12m_4525200A', 'credamount_770A', 'currdebt_22A', 'currdebtcredtyperange_828A', 'disbursedcredamount_1113A', 'downpmt_116A', 'inittransactionamount_650A', 'lastapprcommoditycat_1041M', 'lastapprcommoditytypec_5251766M', 'lastapprcredamount_781A', 'lastcancelreason_561M', 'lastotherinc_902A', 'lastotherlnsexpense_631A', 'lastrejectcommoditycat_161M', 'lastrejectcommodtypec_5251769M', 'lastrejectcredamount_222A', 'lastrejectreason_759M', 'lastrejectreasonclient_4145040M', 'maininc_215A', 'maxannuity_159A', 'maxannuity_4075009A', 'maxdebt4_972A', 'maxinstallast24m_3658928A', 'maxlnamtstart6m_4525199A', 'maxoutstandbalancel12m_4187113A', 'maxpmtlast3m_4525190A', 'previouscontdistrict_112M', 'price_1097A', 'sumoutstandtotal_3546847A', 'sumoutstandtotalest_4493215A', 'totaldebt_9A', 'totalsettled_863A', 'totinstallast1m_4525188A', 'description_5085714M', 'education_1103M', 'education_88M', 'maritalst_385M', 'maritalst_893M', 'pmtaverage_3A', 'pmtaverage_4527227A', 'pmtaverage_4955615A', 'pmtssum_45A']\n"
     ]
    }
   ],
   "source": [
    "case_ids = data[\"case_id\"].unique().shuffle(seed=1)\n",
    "case_ids_train, case_ids_test = train_test_split(case_ids, train_size=0.6, random_state=1)\n",
    "case_ids_valid, case_ids_test = train_test_split(case_ids_test, train_size=0.5, random_state=1)\n",
    "\n",
    "cols_pred = []\n",
    "for col in data.columns:\n",
    "    if col[-1].isupper() and col[:-1].islower():\n",
    "        cols_pred.append(col)\n",
    "\n",
    "print(cols_pred)\n",
    "\n",
    "def from_polars_to_pandas(case_ids: pl.DataFrame) -> pl.DataFrame:\n",
    "    return (\n",
    "        data.filter(pl.col(\"case_id\").is_in(case_ids))[[\"case_id\", \"WEEK_NUM\", \"target\"]].to_pandas(),\n",
    "        data.filter(pl.col(\"case_id\").is_in(case_ids))[cols_pred].to_pandas(),\n",
    "        data.filter(pl.col(\"case_id\").is_in(case_ids))[\"target\"].to_pandas()\n",
    "    )\n",
    "\n",
    "base_train, X_train, y_train = from_polars_to_pandas(case_ids_train)\n",
    "base_valid, X_valid, y_valid = from_polars_to_pandas(case_ids_valid)\n",
    "base_test, X_test, y_test = from_polars_to_pandas(case_ids_test)\n",
    "\n",
    "for df in [X_train, X_valid, X_test]:\n",
    "    df = convert_strings(df)"
   ]
  },
  {
   "cell_type": "code",
   "execution_count": 10,
   "id": "796869fc",
   "metadata": {
    "execution": {
     "iopub.execute_input": "2024-03-19T21:56:14.820726Z",
     "iopub.status.busy": "2024-03-19T21:56:14.819790Z",
     "iopub.status.idle": "2024-03-19T21:56:14.878735Z",
     "shell.execute_reply": "2024-03-19T21:56:14.877504Z"
    },
    "papermill": {
     "duration": 0.071423,
     "end_time": "2024-03-19T21:56:14.881452",
     "exception": false,
     "start_time": "2024-03-19T21:56:14.810029",
     "status": "completed"
    },
    "tags": []
   },
   "outputs": [
    {
     "data": {
      "text/html": [
       "<div>\n",
       "<style scoped>\n",
       "    .dataframe tbody tr th:only-of-type {\n",
       "        vertical-align: middle;\n",
       "    }\n",
       "\n",
       "    .dataframe tbody tr th {\n",
       "        vertical-align: top;\n",
       "    }\n",
       "\n",
       "    .dataframe thead th {\n",
       "        text-align: right;\n",
       "    }\n",
       "</style>\n",
       "<table border=\"1\" class=\"dataframe\">\n",
       "  <thead>\n",
       "    <tr style=\"text-align: right;\">\n",
       "      <th></th>\n",
       "      <th>amtinstpaidbefduel24m_4187115A</th>\n",
       "      <th>annuity_780A</th>\n",
       "      <th>annuitynextmonth_57A</th>\n",
       "      <th>avginstallast24m_3658937A</th>\n",
       "      <th>avglnamtstart24m_4525187A</th>\n",
       "      <th>avgoutstandbalancel6m_4187114A</th>\n",
       "      <th>avgpmtlast12m_4525200A</th>\n",
       "      <th>credamount_770A</th>\n",
       "      <th>currdebt_22A</th>\n",
       "      <th>currdebtcredtyperange_828A</th>\n",
       "      <th>disbursedcredamount_1113A</th>\n",
       "      <th>downpmt_116A</th>\n",
       "      <th>inittransactionamount_650A</th>\n",
       "      <th>lastapprcommoditycat_1041M</th>\n",
       "      <th>lastapprcommoditytypec_5251766M</th>\n",
       "      <th>lastapprcredamount_781A</th>\n",
       "      <th>lastcancelreason_561M</th>\n",
       "      <th>lastotherinc_902A</th>\n",
       "      <th>lastotherlnsexpense_631A</th>\n",
       "      <th>lastrejectcommoditycat_161M</th>\n",
       "      <th>lastrejectcommodtypec_5251769M</th>\n",
       "      <th>lastrejectcredamount_222A</th>\n",
       "      <th>lastrejectreason_759M</th>\n",
       "      <th>lastrejectreasonclient_4145040M</th>\n",
       "      <th>maininc_215A</th>\n",
       "      <th>maxannuity_159A</th>\n",
       "      <th>maxannuity_4075009A</th>\n",
       "      <th>maxdebt4_972A</th>\n",
       "      <th>maxinstallast24m_3658928A</th>\n",
       "      <th>maxlnamtstart6m_4525199A</th>\n",
       "      <th>maxoutstandbalancel12m_4187113A</th>\n",
       "      <th>maxpmtlast3m_4525190A</th>\n",
       "      <th>previouscontdistrict_112M</th>\n",
       "      <th>price_1097A</th>\n",
       "      <th>sumoutstandtotal_3546847A</th>\n",
       "      <th>sumoutstandtotalest_4493215A</th>\n",
       "      <th>totaldebt_9A</th>\n",
       "      <th>totalsettled_863A</th>\n",
       "      <th>totinstallast1m_4525188A</th>\n",
       "      <th>description_5085714M</th>\n",
       "      <th>education_1103M</th>\n",
       "      <th>education_88M</th>\n",
       "      <th>maritalst_385M</th>\n",
       "      <th>maritalst_893M</th>\n",
       "      <th>pmtaverage_3A</th>\n",
       "      <th>pmtaverage_4527227A</th>\n",
       "      <th>pmtaverage_4955615A</th>\n",
       "      <th>pmtssum_45A</th>\n",
       "    </tr>\n",
       "  </thead>\n",
       "  <tbody>\n",
       "    <tr>\n",
       "      <th>0</th>\n",
       "      <td>NaN</td>\n",
       "      <td>1917.6</td>\n",
       "      <td>0.0</td>\n",
       "      <td>NaN</td>\n",
       "      <td>NaN</td>\n",
       "      <td>NaN</td>\n",
       "      <td>NaN</td>\n",
       "      <td>30000.0</td>\n",
       "      <td>0.0</td>\n",
       "      <td>0.0</td>\n",
       "      <td>30000.0</td>\n",
       "      <td>0.0</td>\n",
       "      <td>NaN</td>\n",
       "      <td>a55475b1</td>\n",
       "      <td>a55475b1</td>\n",
       "      <td>NaN</td>\n",
       "      <td>a55475b1</td>\n",
       "      <td>NaN</td>\n",
       "      <td>NaN</td>\n",
       "      <td>a55475b1</td>\n",
       "      <td>a55475b1</td>\n",
       "      <td>NaN</td>\n",
       "      <td>a55475b1</td>\n",
       "      <td>a55475b1</td>\n",
       "      <td>NaN</td>\n",
       "      <td>0.0</td>\n",
       "      <td>NaN</td>\n",
       "      <td>0.0</td>\n",
       "      <td>NaN</td>\n",
       "      <td>NaN</td>\n",
       "      <td>NaN</td>\n",
       "      <td>NaN</td>\n",
       "      <td>a55475b1</td>\n",
       "      <td>NaN</td>\n",
       "      <td>NaN</td>\n",
       "      <td>NaN</td>\n",
       "      <td>0.0</td>\n",
       "      <td>0.0</td>\n",
       "      <td>NaN</td>\n",
       "      <td>NaN</td>\n",
       "      <td>NaN</td>\n",
       "      <td>NaN</td>\n",
       "      <td>NaN</td>\n",
       "      <td>NaN</td>\n",
       "      <td>NaN</td>\n",
       "      <td>NaN</td>\n",
       "      <td>NaN</td>\n",
       "      <td>NaN</td>\n",
       "    </tr>\n",
       "    <tr>\n",
       "      <th>1</th>\n",
       "      <td>NaN</td>\n",
       "      <td>4937.0</td>\n",
       "      <td>0.0</td>\n",
       "      <td>NaN</td>\n",
       "      <td>NaN</td>\n",
       "      <td>NaN</td>\n",
       "      <td>NaN</td>\n",
       "      <td>78000.0</td>\n",
       "      <td>0.0</td>\n",
       "      <td>0.0</td>\n",
       "      <td>78000.0</td>\n",
       "      <td>0.0</td>\n",
       "      <td>NaN</td>\n",
       "      <td>a55475b1</td>\n",
       "      <td>a55475b1</td>\n",
       "      <td>NaN</td>\n",
       "      <td>a55475b1</td>\n",
       "      <td>NaN</td>\n",
       "      <td>NaN</td>\n",
       "      <td>a55475b1</td>\n",
       "      <td>a55475b1</td>\n",
       "      <td>10000.0</td>\n",
       "      <td>a55475b1</td>\n",
       "      <td>a55475b1</td>\n",
       "      <td>NaN</td>\n",
       "      <td>0.0</td>\n",
       "      <td>NaN</td>\n",
       "      <td>0.0</td>\n",
       "      <td>NaN</td>\n",
       "      <td>NaN</td>\n",
       "      <td>NaN</td>\n",
       "      <td>NaN</td>\n",
       "      <td>a55475b1</td>\n",
       "      <td>NaN</td>\n",
       "      <td>NaN</td>\n",
       "      <td>NaN</td>\n",
       "      <td>0.0</td>\n",
       "      <td>0.0</td>\n",
       "      <td>NaN</td>\n",
       "      <td>NaN</td>\n",
       "      <td>NaN</td>\n",
       "      <td>NaN</td>\n",
       "      <td>NaN</td>\n",
       "      <td>NaN</td>\n",
       "      <td>NaN</td>\n",
       "      <td>NaN</td>\n",
       "      <td>NaN</td>\n",
       "      <td>NaN</td>\n",
       "    </tr>\n",
       "    <tr>\n",
       "      <th>2</th>\n",
       "      <td>NaN</td>\n",
       "      <td>3600.0</td>\n",
       "      <td>0.0</td>\n",
       "      <td>NaN</td>\n",
       "      <td>NaN</td>\n",
       "      <td>NaN</td>\n",
       "      <td>NaN</td>\n",
       "      <td>60000.0</td>\n",
       "      <td>0.0</td>\n",
       "      <td>0.0</td>\n",
       "      <td>0.0</td>\n",
       "      <td>0.0</td>\n",
       "      <td>0.0</td>\n",
       "      <td>a55475b1</td>\n",
       "      <td>a55475b1</td>\n",
       "      <td>NaN</td>\n",
       "      <td>P85_114_140</td>\n",
       "      <td>NaN</td>\n",
       "      <td>NaN</td>\n",
       "      <td>a55475b1</td>\n",
       "      <td>a55475b1</td>\n",
       "      <td>NaN</td>\n",
       "      <td>a55475b1</td>\n",
       "      <td>a55475b1</td>\n",
       "      <td>NaN</td>\n",
       "      <td>NaN</td>\n",
       "      <td>NaN</td>\n",
       "      <td>NaN</td>\n",
       "      <td>NaN</td>\n",
       "      <td>NaN</td>\n",
       "      <td>NaN</td>\n",
       "      <td>NaN</td>\n",
       "      <td>a55475b1</td>\n",
       "      <td>NaN</td>\n",
       "      <td>NaN</td>\n",
       "      <td>NaN</td>\n",
       "      <td>0.0</td>\n",
       "      <td>0.0</td>\n",
       "      <td>NaN</td>\n",
       "      <td>NaN</td>\n",
       "      <td>NaN</td>\n",
       "      <td>NaN</td>\n",
       "      <td>NaN</td>\n",
       "      <td>NaN</td>\n",
       "      <td>NaN</td>\n",
       "      <td>NaN</td>\n",
       "      <td>NaN</td>\n",
       "      <td>NaN</td>\n",
       "    </tr>\n",
       "    <tr>\n",
       "      <th>3</th>\n",
       "      <td>NaN</td>\n",
       "      <td>3110.8</td>\n",
       "      <td>0.0</td>\n",
       "      <td>NaN</td>\n",
       "      <td>NaN</td>\n",
       "      <td>NaN</td>\n",
       "      <td>NaN</td>\n",
       "      <td>20000.0</td>\n",
       "      <td>0.0</td>\n",
       "      <td>0.0</td>\n",
       "      <td>20000.0</td>\n",
       "      <td>0.0</td>\n",
       "      <td>NaN</td>\n",
       "      <td>a55475b1</td>\n",
       "      <td>a55475b1</td>\n",
       "      <td>NaN</td>\n",
       "      <td>P94_109_143</td>\n",
       "      <td>NaN</td>\n",
       "      <td>NaN</td>\n",
       "      <td>a55475b1</td>\n",
       "      <td>a55475b1</td>\n",
       "      <td>15980.0</td>\n",
       "      <td>P94_109_143</td>\n",
       "      <td>a55475b1</td>\n",
       "      <td>NaN</td>\n",
       "      <td>0.0</td>\n",
       "      <td>NaN</td>\n",
       "      <td>0.0</td>\n",
       "      <td>NaN</td>\n",
       "      <td>NaN</td>\n",
       "      <td>NaN</td>\n",
       "      <td>NaN</td>\n",
       "      <td>a55475b1</td>\n",
       "      <td>NaN</td>\n",
       "      <td>NaN</td>\n",
       "      <td>NaN</td>\n",
       "      <td>0.0</td>\n",
       "      <td>0.0</td>\n",
       "      <td>NaN</td>\n",
       "      <td>NaN</td>\n",
       "      <td>NaN</td>\n",
       "      <td>NaN</td>\n",
       "      <td>NaN</td>\n",
       "      <td>NaN</td>\n",
       "      <td>NaN</td>\n",
       "      <td>NaN</td>\n",
       "      <td>NaN</td>\n",
       "      <td>NaN</td>\n",
       "    </tr>\n",
       "    <tr>\n",
       "      <th>4</th>\n",
       "      <td>NaN</td>\n",
       "      <td>1218.0</td>\n",
       "      <td>0.0</td>\n",
       "      <td>NaN</td>\n",
       "      <td>NaN</td>\n",
       "      <td>NaN</td>\n",
       "      <td>NaN</td>\n",
       "      <td>20300.0</td>\n",
       "      <td>0.0</td>\n",
       "      <td>0.0</td>\n",
       "      <td>0.0</td>\n",
       "      <td>0.0</td>\n",
       "      <td>0.0</td>\n",
       "      <td>a55475b1</td>\n",
       "      <td>a55475b1</td>\n",
       "      <td>NaN</td>\n",
       "      <td>a55475b1</td>\n",
       "      <td>NaN</td>\n",
       "      <td>NaN</td>\n",
       "      <td>a55475b1</td>\n",
       "      <td>a55475b1</td>\n",
       "      <td>NaN</td>\n",
       "      <td>a55475b1</td>\n",
       "      <td>a55475b1</td>\n",
       "      <td>NaN</td>\n",
       "      <td>NaN</td>\n",
       "      <td>NaN</td>\n",
       "      <td>NaN</td>\n",
       "      <td>NaN</td>\n",
       "      <td>NaN</td>\n",
       "      <td>NaN</td>\n",
       "      <td>NaN</td>\n",
       "      <td>a55475b1</td>\n",
       "      <td>NaN</td>\n",
       "      <td>NaN</td>\n",
       "      <td>NaN</td>\n",
       "      <td>0.0</td>\n",
       "      <td>0.0</td>\n",
       "      <td>NaN</td>\n",
       "      <td>NaN</td>\n",
       "      <td>NaN</td>\n",
       "      <td>NaN</td>\n",
       "      <td>NaN</td>\n",
       "      <td>NaN</td>\n",
       "      <td>NaN</td>\n",
       "      <td>NaN</td>\n",
       "      <td>NaN</td>\n",
       "      <td>NaN</td>\n",
       "    </tr>\n",
       "  </tbody>\n",
       "</table>\n",
       "</div>"
      ],
      "text/plain": [
       "   amtinstpaidbefduel24m_4187115A  annuity_780A  annuitynextmonth_57A  \\\n",
       "0                             NaN        1917.6                   0.0   \n",
       "1                             NaN        4937.0                   0.0   \n",
       "2                             NaN        3600.0                   0.0   \n",
       "3                             NaN        3110.8                   0.0   \n",
       "4                             NaN        1218.0                   0.0   \n",
       "\n",
       "   avginstallast24m_3658937A  avglnamtstart24m_4525187A  \\\n",
       "0                        NaN                        NaN   \n",
       "1                        NaN                        NaN   \n",
       "2                        NaN                        NaN   \n",
       "3                        NaN                        NaN   \n",
       "4                        NaN                        NaN   \n",
       "\n",
       "   avgoutstandbalancel6m_4187114A  avgpmtlast12m_4525200A  credamount_770A  \\\n",
       "0                             NaN                     NaN          30000.0   \n",
       "1                             NaN                     NaN          78000.0   \n",
       "2                             NaN                     NaN          60000.0   \n",
       "3                             NaN                     NaN          20000.0   \n",
       "4                             NaN                     NaN          20300.0   \n",
       "\n",
       "   currdebt_22A  currdebtcredtyperange_828A  disbursedcredamount_1113A  \\\n",
       "0           0.0                         0.0                    30000.0   \n",
       "1           0.0                         0.0                    78000.0   \n",
       "2           0.0                         0.0                        0.0   \n",
       "3           0.0                         0.0                    20000.0   \n",
       "4           0.0                         0.0                        0.0   \n",
       "\n",
       "   downpmt_116A  inittransactionamount_650A lastapprcommoditycat_1041M  \\\n",
       "0           0.0                         NaN                   a55475b1   \n",
       "1           0.0                         NaN                   a55475b1   \n",
       "2           0.0                         0.0                   a55475b1   \n",
       "3           0.0                         NaN                   a55475b1   \n",
       "4           0.0                         0.0                   a55475b1   \n",
       "\n",
       "  lastapprcommoditytypec_5251766M  lastapprcredamount_781A  \\\n",
       "0                        a55475b1                      NaN   \n",
       "1                        a55475b1                      NaN   \n",
       "2                        a55475b1                      NaN   \n",
       "3                        a55475b1                      NaN   \n",
       "4                        a55475b1                      NaN   \n",
       "\n",
       "  lastcancelreason_561M  lastotherinc_902A  lastotherlnsexpense_631A  \\\n",
       "0              a55475b1                NaN                       NaN   \n",
       "1              a55475b1                NaN                       NaN   \n",
       "2           P85_114_140                NaN                       NaN   \n",
       "3           P94_109_143                NaN                       NaN   \n",
       "4              a55475b1                NaN                       NaN   \n",
       "\n",
       "  lastrejectcommoditycat_161M lastrejectcommodtypec_5251769M  \\\n",
       "0                    a55475b1                       a55475b1   \n",
       "1                    a55475b1                       a55475b1   \n",
       "2                    a55475b1                       a55475b1   \n",
       "3                    a55475b1                       a55475b1   \n",
       "4                    a55475b1                       a55475b1   \n",
       "\n",
       "   lastrejectcredamount_222A lastrejectreason_759M  \\\n",
       "0                        NaN              a55475b1   \n",
       "1                    10000.0              a55475b1   \n",
       "2                        NaN              a55475b1   \n",
       "3                    15980.0           P94_109_143   \n",
       "4                        NaN              a55475b1   \n",
       "\n",
       "  lastrejectreasonclient_4145040M  maininc_215A  maxannuity_159A  \\\n",
       "0                        a55475b1           NaN              0.0   \n",
       "1                        a55475b1           NaN              0.0   \n",
       "2                        a55475b1           NaN              NaN   \n",
       "3                        a55475b1           NaN              0.0   \n",
       "4                        a55475b1           NaN              NaN   \n",
       "\n",
       "   maxannuity_4075009A  maxdebt4_972A  maxinstallast24m_3658928A  \\\n",
       "0                  NaN            0.0                        NaN   \n",
       "1                  NaN            0.0                        NaN   \n",
       "2                  NaN            NaN                        NaN   \n",
       "3                  NaN            0.0                        NaN   \n",
       "4                  NaN            NaN                        NaN   \n",
       "\n",
       "   maxlnamtstart6m_4525199A  maxoutstandbalancel12m_4187113A  \\\n",
       "0                       NaN                              NaN   \n",
       "1                       NaN                              NaN   \n",
       "2                       NaN                              NaN   \n",
       "3                       NaN                              NaN   \n",
       "4                       NaN                              NaN   \n",
       "\n",
       "   maxpmtlast3m_4525190A previouscontdistrict_112M  price_1097A  \\\n",
       "0                    NaN                  a55475b1          NaN   \n",
       "1                    NaN                  a55475b1          NaN   \n",
       "2                    NaN                  a55475b1          NaN   \n",
       "3                    NaN                  a55475b1          NaN   \n",
       "4                    NaN                  a55475b1          NaN   \n",
       "\n",
       "   sumoutstandtotal_3546847A  sumoutstandtotalest_4493215A  totaldebt_9A  \\\n",
       "0                        NaN                           NaN           0.0   \n",
       "1                        NaN                           NaN           0.0   \n",
       "2                        NaN                           NaN           0.0   \n",
       "3                        NaN                           NaN           0.0   \n",
       "4                        NaN                           NaN           0.0   \n",
       "\n",
       "   totalsettled_863A  totinstallast1m_4525188A description_5085714M  \\\n",
       "0                0.0                       NaN                  NaN   \n",
       "1                0.0                       NaN                  NaN   \n",
       "2                0.0                       NaN                  NaN   \n",
       "3                0.0                       NaN                  NaN   \n",
       "4                0.0                       NaN                  NaN   \n",
       "\n",
       "  education_1103M education_88M maritalst_385M maritalst_893M  pmtaverage_3A  \\\n",
       "0             NaN           NaN            NaN            NaN            NaN   \n",
       "1             NaN           NaN            NaN            NaN            NaN   \n",
       "2             NaN           NaN            NaN            NaN            NaN   \n",
       "3             NaN           NaN            NaN            NaN            NaN   \n",
       "4             NaN           NaN            NaN            NaN            NaN   \n",
       "\n",
       "   pmtaverage_4527227A  pmtaverage_4955615A  pmtssum_45A  \n",
       "0                  NaN                  NaN          NaN  \n",
       "1                  NaN                  NaN          NaN  \n",
       "2                  NaN                  NaN          NaN  \n",
       "3                  NaN                  NaN          NaN  \n",
       "4                  NaN                  NaN          NaN  "
      ]
     },
     "execution_count": 10,
     "metadata": {},
     "output_type": "execute_result"
    }
   ],
   "source": [
    "X_train.dtypes\n",
    "pd.set_option('display.max_columns', None)\n",
    "X_train.head()"
   ]
  },
  {
   "cell_type": "code",
   "execution_count": 11,
   "id": "31469cdd",
   "metadata": {
    "execution": {
     "iopub.execute_input": "2024-03-19T21:56:14.902122Z",
     "iopub.status.busy": "2024-03-19T21:56:14.901711Z",
     "iopub.status.idle": "2024-03-19T21:56:14.908063Z",
     "shell.execute_reply": "2024-03-19T21:56:14.906890Z"
    },
    "papermill": {
     "duration": 0.020208,
     "end_time": "2024-03-19T21:56:14.910908",
     "exception": false,
     "start_time": "2024-03-19T21:56:14.890700",
     "status": "completed"
    },
    "tags": []
   },
   "outputs": [
    {
     "name": "stdout",
     "output_type": "stream",
     "text": [
      "Train: (915995, 48)\n",
      "Valid: (305332, 48)\n",
      "Test: (305332, 48)\n"
     ]
    }
   ],
   "source": [
    "print(f\"Train: {X_train.shape}\")\n",
    "print(f\"Valid: {X_valid.shape}\")\n",
    "print(f\"Test: {X_test.shape}\")"
   ]
  },
  {
   "cell_type": "code",
   "execution_count": null,
   "id": "1313379a",
   "metadata": {
    "papermill": {
     "duration": 0.00911,
     "end_time": "2024-03-19T21:56:14.929579",
     "exception": false,
     "start_time": "2024-03-19T21:56:14.920469",
     "status": "completed"
    },
    "tags": []
   },
   "outputs": [],
   "source": []
  },
  {
   "cell_type": "markdown",
   "id": "44082514",
   "metadata": {
    "papermill": {
     "duration": 0.009278,
     "end_time": "2024-03-19T21:56:14.948045",
     "exception": false,
     "start_time": "2024-03-19T21:56:14.938767",
     "status": "completed"
    },
    "tags": []
   },
   "source": [
    "## Training LightGBM\n",
    "\n",
    "Minimal example of LightGBM training is shown below."
   ]
  },
  {
   "cell_type": "code",
   "execution_count": 12,
   "id": "176220a1",
   "metadata": {
    "execution": {
     "iopub.execute_input": "2024-03-19T21:56:14.968975Z",
     "iopub.status.busy": "2024-03-19T21:56:14.968572Z",
     "iopub.status.idle": "2024-03-19T21:57:38.079794Z",
     "shell.execute_reply": "2024-03-19T21:57:38.078431Z"
    },
    "papermill": {
     "duration": 83.124719,
     "end_time": "2024-03-19T21:57:38.082639",
     "exception": false,
     "start_time": "2024-03-19T21:56:14.957920",
     "status": "completed"
    },
    "tags": []
   },
   "outputs": [
    {
     "name": "stderr",
     "output_type": "stream",
     "text": [
      "/opt/conda/lib/python3.10/site-packages/lightgbm/engine.py:177: UserWarning: Found `n_estimators` in params. Will use it instead of argument\n",
      "  _log_warning(f\"Found `{alias}` in params. Will use it instead of argument\")\n"
     ]
    },
    {
     "name": "stdout",
     "output_type": "stream",
     "text": [
      "Training until validation scores don't improve for 10 rounds\n",
      "[50]\tvalid_0's auc: 0.705963\n",
      "[100]\tvalid_0's auc: 0.724362\n",
      "[150]\tvalid_0's auc: 0.731423\n",
      "[200]\tvalid_0's auc: 0.735874\n",
      "[250]\tvalid_0's auc: 0.739009\n",
      "[300]\tvalid_0's auc: 0.740965\n",
      "[350]\tvalid_0's auc: 0.742924\n",
      "[400]\tvalid_0's auc: 0.744582\n",
      "[450]\tvalid_0's auc: 0.745977\n",
      "[500]\tvalid_0's auc: 0.747033\n",
      "[550]\tvalid_0's auc: 0.747877\n",
      "[600]\tvalid_0's auc: 0.749039\n",
      "[650]\tvalid_0's auc: 0.750087\n",
      "[700]\tvalid_0's auc: 0.750863\n",
      "Early stopping, best iteration is:\n",
      "[739]\tvalid_0's auc: 0.751216\n"
     ]
    }
   ],
   "source": [
    "lgb_train = lgb.Dataset(X_train, label=y_train)\n",
    "lgb_valid = lgb.Dataset(X_valid, label=y_valid, reference=lgb_train)\n",
    "\n",
    "params = {\n",
    "    \"boosting_type\": \"gbdt\",\n",
    "    \"objective\": \"binary\",\n",
    "    \"metric\": \"auc\",\n",
    "    \"max_depth\": 3,\n",
    "    \"num_leaves\": 31,\n",
    "    \"learning_rate\": 0.05,\n",
    "    \"feature_fraction\": 0.9,\n",
    "    \"bagging_fraction\": 0.8,\n",
    "    \"bagging_freq\": 5,\n",
    "    \"n_estimators\": 1000,\n",
    "    \"verbose\": -1,\n",
    "}\n",
    "\n",
    "gbm = lgb.train(\n",
    "    params,\n",
    "    lgb_train,\n",
    "    valid_sets=lgb_valid,\n",
    "    callbacks=[lgb.log_evaluation(50), lgb.early_stopping(10)]\n",
    ")"
   ]
  },
  {
   "cell_type": "markdown",
   "id": "6020a832",
   "metadata": {
    "papermill": {
     "duration": 0.01077,
     "end_time": "2024-03-19T21:57:38.104639",
     "exception": false,
     "start_time": "2024-03-19T21:57:38.093869",
     "status": "completed"
    },
    "tags": []
   },
   "source": [
    "Evaluation with AUC and then comparison with the stability metric is shown below."
   ]
  },
  {
   "cell_type": "code",
   "execution_count": 13,
   "id": "8345b4c0",
   "metadata": {
    "execution": {
     "iopub.execute_input": "2024-03-19T21:57:38.131319Z",
     "iopub.status.busy": "2024-03-19T21:57:38.130107Z",
     "iopub.status.idle": "2024-03-19T21:58:01.962754Z",
     "shell.execute_reply": "2024-03-19T21:58:01.961574Z"
    },
    "papermill": {
     "duration": 23.849701,
     "end_time": "2024-03-19T21:58:01.965267",
     "exception": false,
     "start_time": "2024-03-19T21:57:38.115566",
     "status": "completed"
    },
    "tags": []
   },
   "outputs": [
    {
     "name": "stdout",
     "output_type": "stream",
     "text": [
      "The AUC score on the train set is: 0.764122917660593\n",
      "The AUC score on the valid set is: 0.7512157223309048\n",
      "The AUC score on the test set is: 0.7483072129459662\n"
     ]
    }
   ],
   "source": [
    "for base, X in [(base_train, X_train), (base_valid, X_valid), (base_test, X_test)]:\n",
    "    y_pred = gbm.predict(X, num_iteration=gbm.best_iteration)\n",
    "    base[\"score\"] = y_pred\n",
    "\n",
    "print(f'The AUC score on the train set is: {roc_auc_score(base_train[\"target\"], base_train[\"score\"])}') \n",
    "print(f'The AUC score on the valid set is: {roc_auc_score(base_valid[\"target\"], base_valid[\"score\"])}') \n",
    "print(f'The AUC score on the test set is: {roc_auc_score(base_test[\"target\"], base_test[\"score\"])}')  "
   ]
  },
  {
   "cell_type": "code",
   "execution_count": 14,
   "id": "1de4e4f6",
   "metadata": {
    "execution": {
     "iopub.execute_input": "2024-03-19T21:58:01.990046Z",
     "iopub.status.busy": "2024-03-19T21:58:01.989229Z",
     "iopub.status.idle": "2024-03-19T21:58:03.125605Z",
     "shell.execute_reply": "2024-03-19T21:58:03.124207Z"
    },
    "papermill": {
     "duration": 1.151422,
     "end_time": "2024-03-19T21:58:03.128133",
     "exception": false,
     "start_time": "2024-03-19T21:58:01.976711",
     "status": "completed"
    },
    "tags": []
   },
   "outputs": [
    {
     "name": "stdout",
     "output_type": "stream",
     "text": [
      "The stability score on the train set is: 0.4976648127691175\n",
      "The stability score on the valid set is: 0.4726726686264489\n",
      "The stability score on the test set is: 0.4583643686935092\n"
     ]
    }
   ],
   "source": [
    "def gini_stability(base, w_fallingrate=88.0, w_resstd=-0.5):\n",
    "    gini_in_time = base.loc[:, [\"WEEK_NUM\", \"target\", \"score\"]]\\\n",
    "        .sort_values(\"WEEK_NUM\")\\\n",
    "        .groupby(\"WEEK_NUM\")[[\"target\", \"score\"]]\\\n",
    "        .apply(lambda x: 2*roc_auc_score(x[\"target\"], x[\"score\"])-1).tolist()\n",
    "    \n",
    "    x = np.arange(len(gini_in_time))\n",
    "    y = gini_in_time\n",
    "    a, b = np.polyfit(x, y, 1)\n",
    "    y_hat = a*x + b\n",
    "    residuals = y - y_hat\n",
    "    res_std = np.std(residuals)\n",
    "    avg_gini = np.mean(gini_in_time)\n",
    "    return avg_gini + w_fallingrate * min(0, a) + w_resstd * res_std\n",
    "\n",
    "stability_score_train = gini_stability(base_train)\n",
    "stability_score_valid = gini_stability(base_valid)\n",
    "stability_score_test = gini_stability(base_test)\n",
    "\n",
    "print(f'The stability score on the train set is: {stability_score_train}') \n",
    "print(f'The stability score on the valid set is: {stability_score_valid}') \n",
    "print(f'The stability score on the test set is: {stability_score_test}')  "
   ]
  },
  {
   "cell_type": "markdown",
   "id": "5bdfecd3",
   "metadata": {
    "papermill": {
     "duration": 0.010794,
     "end_time": "2024-03-19T21:58:03.150170",
     "exception": false,
     "start_time": "2024-03-19T21:58:03.139376",
     "status": "completed"
    },
    "tags": []
   },
   "source": [
    "## Submission\n",
    "\n",
    "Scoring the submission dataset is below, we need to take care of new categories. Then we save the score as a last step. "
   ]
  },
  {
   "cell_type": "code",
   "execution_count": 15,
   "id": "5429072d",
   "metadata": {
    "execution": {
     "iopub.execute_input": "2024-03-19T21:58:03.174636Z",
     "iopub.status.busy": "2024-03-19T21:58:03.173874Z",
     "iopub.status.idle": "2024-03-19T21:58:03.286304Z",
     "shell.execute_reply": "2024-03-19T21:58:03.284789Z"
    },
    "papermill": {
     "duration": 0.127546,
     "end_time": "2024-03-19T21:58:03.288977",
     "exception": false,
     "start_time": "2024-03-19T21:58:03.161431",
     "status": "completed"
    },
    "tags": []
   },
   "outputs": [],
   "source": [
    "X_submission = data_submission[cols_pred].to_pandas()\n",
    "X_submission = convert_strings(X_submission)\n",
    "categorical_cols = X_train.select_dtypes(include=['category']).columns\n",
    "\n",
    "for col in categorical_cols:\n",
    "    train_categories = set(X_train[col].cat.categories)\n",
    "    submission_categories = set(X_submission[col].cat.categories)\n",
    "    new_categories = submission_categories - train_categories\n",
    "    X_submission.loc[X_submission[col].isin(new_categories), col] = \"Unknown\"\n",
    "    new_dtype = pd.CategoricalDtype(categories=train_categories, ordered=True)\n",
    "    X_train[col] = X_train[col].astype(new_dtype)\n",
    "    X_submission[col] = X_submission[col].astype(new_dtype)\n",
    "\n",
    "y_submission_pred = gbm.predict(X_submission, num_iteration=gbm.best_iteration)"
   ]
  },
  {
   "cell_type": "code",
   "execution_count": 16,
   "id": "83c278c9",
   "metadata": {
    "execution": {
     "iopub.execute_input": "2024-03-19T21:58:03.313354Z",
     "iopub.status.busy": "2024-03-19T21:58:03.312915Z",
     "iopub.status.idle": "2024-03-19T21:58:03.324858Z",
     "shell.execute_reply": "2024-03-19T21:58:03.323691Z"
    },
    "papermill": {
     "duration": 0.02736,
     "end_time": "2024-03-19T21:58:03.327370",
     "exception": false,
     "start_time": "2024-03-19T21:58:03.300010",
     "status": "completed"
    },
    "tags": []
   },
   "outputs": [],
   "source": [
    "submission = pd.DataFrame({\n",
    "    \"case_id\": data_submission[\"case_id\"].to_numpy(),\n",
    "    \"score\": y_submission_pred\n",
    "}).set_index('case_id')\n",
    "submission.to_csv(\"./submission.csv\")"
   ]
  },
  {
   "cell_type": "markdown",
   "id": "0e123370",
   "metadata": {
    "papermill": {
     "duration": 0.011207,
     "end_time": "2024-03-19T21:58:03.350070",
     "exception": false,
     "start_time": "2024-03-19T21:58:03.338863",
     "status": "completed"
    },
    "tags": []
   },
   "source": [
    "Best of luck, and most importantly, enjoy the process of learning and discovery! \n",
    "\n",
    "<img src=\"https://i.imgur.com/obVWIBh.png\" alt=\"Image\" width=\"700\"/>"
   ]
  }
 ],
 "metadata": {
  "kaggle": {
   "accelerator": "none",
   "dataSources": [
    {
     "databundleVersionId": 7921029,
     "sourceId": 50160,
     "sourceType": "competition"
    }
   ],
   "dockerImageVersionId": 30635,
   "isGpuEnabled": false,
   "isInternetEnabled": false,
   "language": "python",
   "sourceType": "notebook"
  },
  "kernelspec": {
   "display_name": "Python 3",
   "language": "python",
   "name": "python3"
  },
  "language_info": {
   "codemirror_mode": {
    "name": "ipython",
    "version": 3
   },
   "file_extension": ".py",
   "mimetype": "text/x-python",
   "name": "python",
   "nbconvert_exporter": "python",
   "pygments_lexer": "ipython3",
   "version": "3.10.12"
  },
  "papermill": {
   "default_parameters": {},
   "duration": 149.588206,
   "end_time": "2024-03-19T21:58:04.685420",
   "environment_variables": {},
   "exception": null,
   "input_path": "__notebook__.ipynb",
   "output_path": "__notebook__.ipynb",
   "parameters": {},
   "start_time": "2024-03-19T21:55:35.097214",
   "version": "2.4.0"
  }
 },
 "nbformat": 4,
 "nbformat_minor": 5
}
